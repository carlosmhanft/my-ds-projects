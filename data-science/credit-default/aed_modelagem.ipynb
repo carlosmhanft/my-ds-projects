{
  "nbformat": 4,
  "nbformat_minor": 0,
  "metadata": {
    "colab": {
      "name": "aed-modelagem.ipynb",
      "provenance": [],
      "collapsed_sections": [],
      "toc_visible": true
    },
    "kernelspec": {
      "display_name": "Python 3",
      "name": "python3"
    },
    "language_info": {
      "name": "python"
    }
  },
  "cells": [
    {
      "cell_type": "markdown",
      "metadata": {
        "id": "IXkDDcqPK4wT"
      },
      "source": [
        "# **Importando a base**"
      ]
    },
    {
      "cell_type": "code",
      "metadata": {
        "colab": {
          "base_uri": "https://localhost:8080/"
        },
        "id": "bdtOgRP4D4pg",
        "outputId": "a10f65c1-0a97-44fe-adb6-571d22a4fe3a"
      },
      "source": [
        "from google.colab import drive \n",
        "drive.mount('/content/drive')"
      ],
      "execution_count": null,
      "outputs": [
        {
          "output_type": "stream",
          "text": [
            "Mounted at /content/drive\n"
          ],
          "name": "stdout"
        }
      ]
    },
    {
      "cell_type": "code",
      "metadata": {
        "id": "Vtw2gXF5ble5"
      },
      "source": [
        "!pip install -U imbalanced-learn\n",
        "!pip install feature-engine"
      ],
      "execution_count": null,
      "outputs": []
    },
    {
      "cell_type": "code",
      "metadata": {
        "id": "2nVdYIU8G5cK"
      },
      "source": [
        "import numpy as np\n",
        "import pandas as pd\n",
        "import matplotlib.pyplot as plt\n",
        "import seaborn as sns"
      ],
      "execution_count": null,
      "outputs": []
    },
    {
      "cell_type": "code",
      "metadata": {
        "id": "__GpQZk2G9Hw"
      },
      "source": [
        "df = pd.read_csv('/content/drive/MyDrive/datasets/credito/treino.csv', sep=',')"
      ],
      "execution_count": null,
      "outputs": []
    },
    {
      "cell_type": "code",
      "metadata": {
        "colab": {
          "base_uri": "https://localhost:8080/"
        },
        "id": "lh9ez5l7tmbJ",
        "outputId": "ebe157b2-4997-4c41-bc42-3fb335a69a40"
      },
      "source": [
        "!python --version"
      ],
      "execution_count": null,
      "outputs": [
        {
          "output_type": "stream",
          "text": [
            "Python 3.7.11\n"
          ],
          "name": "stdout"
        }
      ]
    },
    {
      "cell_type": "markdown",
      "metadata": {
        "id": "mUeX3QsFK_5a"
      },
      "source": [
        "# **Análise descritiva**"
      ]
    },
    {
      "cell_type": "code",
      "metadata": {
        "colab": {
          "base_uri": "https://localhost:8080/"
        },
        "id": "ICT2Bt38HJsp",
        "outputId": "98ef8f0f-d0bc-4c6b-a151-2a54eb137bb6"
      },
      "source": [
        "print(f'A base contém {df.shape[0]} linhas e {df.shape[1]} colunas')"
      ],
      "execution_count": null,
      "outputs": [
        {
          "output_type": "stream",
          "text": [
            "A base contém 110000 linhas e 11 colunas\n"
          ],
          "name": "stdout"
        }
      ]
    },
    {
      "cell_type": "code",
      "metadata": {
        "colab": {
          "base_uri": "https://localhost:8080/",
          "height": 320
        },
        "id": "E0tbmWU1HJNQ",
        "outputId": "c469ac5a-925a-41e6-a9b1-3fc877a61708"
      },
      "source": [
        "# Resumo estatístico\n",
        "df.describe().round(1)"
      ],
      "execution_count": null,
      "outputs": [
        {
          "output_type": "execute_result",
          "data": {
            "text/html": [
              "<div>\n",
              "<style scoped>\n",
              "    .dataframe tbody tr th:only-of-type {\n",
              "        vertical-align: middle;\n",
              "    }\n",
              "\n",
              "    .dataframe tbody tr th {\n",
              "        vertical-align: top;\n",
              "    }\n",
              "\n",
              "    .dataframe thead th {\n",
              "        text-align: right;\n",
              "    }\n",
              "</style>\n",
              "<table border=\"1\" class=\"dataframe\">\n",
              "  <thead>\n",
              "    <tr style=\"text-align: right;\">\n",
              "      <th></th>\n",
              "      <th>inadimplente</th>\n",
              "      <th>util_linhas_inseguras</th>\n",
              "      <th>idade</th>\n",
              "      <th>vezes_passou_de_30_59_dias</th>\n",
              "      <th>razao_debito</th>\n",
              "      <th>salario_mensal</th>\n",
              "      <th>numero_linhas_crdto_aberto</th>\n",
              "      <th>numero_vezes_passou_90_dias</th>\n",
              "      <th>numero_emprestimos_imobiliarios</th>\n",
              "      <th>numero_de_vezes_que_passou_60_89_dias</th>\n",
              "      <th>numero_de_dependentes</th>\n",
              "    </tr>\n",
              "  </thead>\n",
              "  <tbody>\n",
              "    <tr>\n",
              "      <th>count</th>\n",
              "      <td>110000.0</td>\n",
              "      <td>110000.0</td>\n",
              "      <td>110000.0</td>\n",
              "      <td>110000.0</td>\n",
              "      <td>110000.0</td>\n",
              "      <td>88237.0</td>\n",
              "      <td>110000.0</td>\n",
              "      <td>110000.0</td>\n",
              "      <td>110000.0</td>\n",
              "      <td>110000.0</td>\n",
              "      <td>107122.0</td>\n",
              "    </tr>\n",
              "    <tr>\n",
              "      <th>mean</th>\n",
              "      <td>0.1</td>\n",
              "      <td>5.9</td>\n",
              "      <td>52.3</td>\n",
              "      <td>0.4</td>\n",
              "      <td>354.8</td>\n",
              "      <td>6637.4</td>\n",
              "      <td>8.4</td>\n",
              "      <td>0.3</td>\n",
              "      <td>1.0</td>\n",
              "      <td>0.2</td>\n",
              "      <td>0.8</td>\n",
              "    </tr>\n",
              "    <tr>\n",
              "      <th>std</th>\n",
              "      <td>0.2</td>\n",
              "      <td>252.3</td>\n",
              "      <td>14.8</td>\n",
              "      <td>4.2</td>\n",
              "      <td>2074.1</td>\n",
              "      <td>13384.0</td>\n",
              "      <td>5.1</td>\n",
              "      <td>4.2</td>\n",
              "      <td>1.1</td>\n",
              "      <td>4.2</td>\n",
              "      <td>1.1</td>\n",
              "    </tr>\n",
              "    <tr>\n",
              "      <th>min</th>\n",
              "      <td>0.0</td>\n",
              "      <td>0.0</td>\n",
              "      <td>0.0</td>\n",
              "      <td>0.0</td>\n",
              "      <td>0.0</td>\n",
              "      <td>0.0</td>\n",
              "      <td>0.0</td>\n",
              "      <td>0.0</td>\n",
              "      <td>0.0</td>\n",
              "      <td>0.0</td>\n",
              "      <td>0.0</td>\n",
              "    </tr>\n",
              "    <tr>\n",
              "      <th>25%</th>\n",
              "      <td>0.0</td>\n",
              "      <td>0.0</td>\n",
              "      <td>41.0</td>\n",
              "      <td>0.0</td>\n",
              "      <td>0.2</td>\n",
              "      <td>3400.0</td>\n",
              "      <td>5.0</td>\n",
              "      <td>0.0</td>\n",
              "      <td>0.0</td>\n",
              "      <td>0.0</td>\n",
              "      <td>0.0</td>\n",
              "    </tr>\n",
              "    <tr>\n",
              "      <th>50%</th>\n",
              "      <td>0.0</td>\n",
              "      <td>0.2</td>\n",
              "      <td>52.0</td>\n",
              "      <td>0.0</td>\n",
              "      <td>0.4</td>\n",
              "      <td>5400.0</td>\n",
              "      <td>8.0</td>\n",
              "      <td>0.0</td>\n",
              "      <td>1.0</td>\n",
              "      <td>0.0</td>\n",
              "      <td>0.0</td>\n",
              "    </tr>\n",
              "    <tr>\n",
              "      <th>75%</th>\n",
              "      <td>0.0</td>\n",
              "      <td>0.6</td>\n",
              "      <td>63.0</td>\n",
              "      <td>0.0</td>\n",
              "      <td>0.9</td>\n",
              "      <td>8225.0</td>\n",
              "      <td>11.0</td>\n",
              "      <td>0.0</td>\n",
              "      <td>2.0</td>\n",
              "      <td>0.0</td>\n",
              "      <td>1.0</td>\n",
              "    </tr>\n",
              "    <tr>\n",
              "      <th>max</th>\n",
              "      <td>1.0</td>\n",
              "      <td>50708.0</td>\n",
              "      <td>109.0</td>\n",
              "      <td>98.0</td>\n",
              "      <td>329664.0</td>\n",
              "      <td>3008750.0</td>\n",
              "      <td>58.0</td>\n",
              "      <td>98.0</td>\n",
              "      <td>54.0</td>\n",
              "      <td>98.0</td>\n",
              "      <td>20.0</td>\n",
              "    </tr>\n",
              "  </tbody>\n",
              "</table>\n",
              "</div>"
            ],
            "text/plain": [
              "       inadimplente  ...  numero_de_dependentes\n",
              "count      110000.0  ...               107122.0\n",
              "mean            0.1  ...                    0.8\n",
              "std             0.2  ...                    1.1\n",
              "min             0.0  ...                    0.0\n",
              "25%             0.0  ...                    0.0\n",
              "50%             0.0  ...                    0.0\n",
              "75%             0.0  ...                    1.0\n",
              "max             1.0  ...                   20.0\n",
              "\n",
              "[8 rows x 11 columns]"
            ]
          },
          "metadata": {
            "tags": []
          },
          "execution_count": 7
        }
      ]
    },
    {
      "cell_type": "code",
      "metadata": {
        "colab": {
          "base_uri": "https://localhost:8080/"
        },
        "id": "k3CdVKvrKtZ5",
        "outputId": "b5b4f894-3910-4ce2-da87-2f0b3cf69505"
      },
      "source": [
        "# Metadados da base\n",
        "df.dtypes"
      ],
      "execution_count": null,
      "outputs": [
        {
          "output_type": "execute_result",
          "data": {
            "text/plain": [
              "inadimplente                               int64\n",
              "util_linhas_inseguras                    float64\n",
              "idade                                      int64\n",
              "vezes_passou_de_30_59_dias                 int64\n",
              "razao_debito                             float64\n",
              "salario_mensal                           float64\n",
              "numero_linhas_crdto_aberto                 int64\n",
              "numero_vezes_passou_90_dias                int64\n",
              "numero_emprestimos_imobiliarios            int64\n",
              "numero_de_vezes_que_passou_60_89_dias      int64\n",
              "numero_de_dependentes                    float64\n",
              "dtype: object"
            ]
          },
          "metadata": {
            "tags": []
          },
          "execution_count": 8
        }
      ]
    },
    {
      "cell_type": "code",
      "metadata": {
        "colab": {
          "base_uri": "https://localhost:8080/"
        },
        "id": "xkfuUgcXIlqI",
        "outputId": "f57aa256-6c76-44e1-bbd1-c63673062320"
      },
      "source": [
        "# Contagem da variável target\n",
        "df.inadimplente.value_counts()"
      ],
      "execution_count": null,
      "outputs": [
        {
          "output_type": "execute_result",
          "data": {
            "text/plain": [
              "0    102669\n",
              "1      7331\n",
              "Name: inadimplente, dtype: int64"
            ]
          },
          "metadata": {
            "tags": []
          },
          "execution_count": 9
        }
      ]
    },
    {
      "cell_type": "code",
      "metadata": {
        "colab": {
          "base_uri": "https://localhost:8080/"
        },
        "id": "6bdRiJdCqsvQ",
        "outputId": "3f25538b-7b7a-4453-94d0-599ef1f0b88c"
      },
      "source": [
        "# Contagem da variável target em %\n",
        "df.inadimplente.value_counts(normalize=True)*100"
      ],
      "execution_count": null,
      "outputs": [
        {
          "output_type": "execute_result",
          "data": {
            "text/plain": [
              "0    93.335455\n",
              "1     6.664545\n",
              "Name: inadimplente, dtype: float64"
            ]
          },
          "metadata": {
            "tags": []
          },
          "execution_count": 10
        }
      ]
    },
    {
      "cell_type": "code",
      "metadata": {
        "colab": {
          "base_uri": "https://localhost:8080/"
        },
        "id": "gVTW59KuJmsZ",
        "outputId": "7f57ec3f-8726-4712-930b-7d73fe6813ba"
      },
      "source": [
        "# Quantidade de nulos em cada coluna\n",
        "df.isnull().sum()"
      ],
      "execution_count": null,
      "outputs": [
        {
          "output_type": "execute_result",
          "data": {
            "text/plain": [
              "inadimplente                                 0\n",
              "util_linhas_inseguras                        0\n",
              "idade                                        0\n",
              "vezes_passou_de_30_59_dias                   0\n",
              "razao_debito                                 0\n",
              "salario_mensal                           21763\n",
              "numero_linhas_crdto_aberto                   0\n",
              "numero_vezes_passou_90_dias                  0\n",
              "numero_emprestimos_imobiliarios              0\n",
              "numero_de_vezes_que_passou_60_89_dias        0\n",
              "numero_de_dependentes                     2878\n",
              "dtype: int64"
            ]
          },
          "metadata": {
            "tags": []
          },
          "execution_count": 11
        }
      ]
    },
    {
      "cell_type": "markdown",
      "metadata": {
        "id": "nQkCxSDXhhqW"
      },
      "source": [
        "# **Tratando valores nulos**"
      ]
    },
    {
      "cell_type": "code",
      "metadata": {
        "colab": {
          "base_uri": "https://localhost:8080/",
          "height": 444
        },
        "id": "hZTqzA2uWDEP",
        "outputId": "4ae72abb-f59c-4e07-e48f-183887f93cdb"
      },
      "source": [
        "df.query('salario_mensal <= 0')"
      ],
      "execution_count": null,
      "outputs": [
        {
          "output_type": "execute_result",
          "data": {
            "text/html": [
              "<div>\n",
              "<style scoped>\n",
              "    .dataframe tbody tr th:only-of-type {\n",
              "        vertical-align: middle;\n",
              "    }\n",
              "\n",
              "    .dataframe tbody tr th {\n",
              "        vertical-align: top;\n",
              "    }\n",
              "\n",
              "    .dataframe thead th {\n",
              "        text-align: right;\n",
              "    }\n",
              "</style>\n",
              "<table border=\"1\" class=\"dataframe\">\n",
              "  <thead>\n",
              "    <tr style=\"text-align: right;\">\n",
              "      <th></th>\n",
              "      <th>inadimplente</th>\n",
              "      <th>util_linhas_inseguras</th>\n",
              "      <th>idade</th>\n",
              "      <th>vezes_passou_de_30_59_dias</th>\n",
              "      <th>razao_debito</th>\n",
              "      <th>salario_mensal</th>\n",
              "      <th>numero_linhas_crdto_aberto</th>\n",
              "      <th>numero_vezes_passou_90_dias</th>\n",
              "      <th>numero_emprestimos_imobiliarios</th>\n",
              "      <th>numero_de_vezes_que_passou_60_89_dias</th>\n",
              "      <th>numero_de_dependentes</th>\n",
              "    </tr>\n",
              "  </thead>\n",
              "  <tbody>\n",
              "    <tr>\n",
              "      <th>14</th>\n",
              "      <td>0</td>\n",
              "      <td>0.019657</td>\n",
              "      <td>76</td>\n",
              "      <td>0</td>\n",
              "      <td>477.0</td>\n",
              "      <td>0.0</td>\n",
              "      <td>6</td>\n",
              "      <td>0</td>\n",
              "      <td>1</td>\n",
              "      <td>0</td>\n",
              "      <td>0.0</td>\n",
              "    </tr>\n",
              "    <tr>\n",
              "      <th>50</th>\n",
              "      <td>0</td>\n",
              "      <td>0.818978</td>\n",
              "      <td>73</td>\n",
              "      <td>0</td>\n",
              "      <td>3095.0</td>\n",
              "      <td>0.0</td>\n",
              "      <td>9</td>\n",
              "      <td>0</td>\n",
              "      <td>1</td>\n",
              "      <td>1</td>\n",
              "      <td>0.0</td>\n",
              "    </tr>\n",
              "    <tr>\n",
              "      <th>73</th>\n",
              "      <td>0</td>\n",
              "      <td>0.059669</td>\n",
              "      <td>31</td>\n",
              "      <td>0</td>\n",
              "      <td>3162.0</td>\n",
              "      <td>0.0</td>\n",
              "      <td>11</td>\n",
              "      <td>0</td>\n",
              "      <td>2</td>\n",
              "      <td>0</td>\n",
              "      <td>1.0</td>\n",
              "    </tr>\n",
              "    <tr>\n",
              "      <th>90</th>\n",
              "      <td>0</td>\n",
              "      <td>0.039388</td>\n",
              "      <td>51</td>\n",
              "      <td>0</td>\n",
              "      <td>15466.0</td>\n",
              "      <td>0.0</td>\n",
              "      <td>7</td>\n",
              "      <td>0</td>\n",
              "      <td>0</td>\n",
              "      <td>0</td>\n",
              "      <td>0.0</td>\n",
              "    </tr>\n",
              "    <tr>\n",
              "      <th>298</th>\n",
              "      <td>0</td>\n",
              "      <td>0.085152</td>\n",
              "      <td>25</td>\n",
              "      <td>0</td>\n",
              "      <td>1005.0</td>\n",
              "      <td>0.0</td>\n",
              "      <td>5</td>\n",
              "      <td>0</td>\n",
              "      <td>0</td>\n",
              "      <td>0</td>\n",
              "      <td>0.0</td>\n",
              "    </tr>\n",
              "    <tr>\n",
              "      <th>...</th>\n",
              "      <td>...</td>\n",
              "      <td>...</td>\n",
              "      <td>...</td>\n",
              "      <td>...</td>\n",
              "      <td>...</td>\n",
              "      <td>...</td>\n",
              "      <td>...</td>\n",
              "      <td>...</td>\n",
              "      <td>...</td>\n",
              "      <td>...</td>\n",
              "      <td>...</td>\n",
              "    </tr>\n",
              "    <tr>\n",
              "      <th>108994</th>\n",
              "      <td>0</td>\n",
              "      <td>0.001706</td>\n",
              "      <td>74</td>\n",
              "      <td>0</td>\n",
              "      <td>15.0</td>\n",
              "      <td>0.0</td>\n",
              "      <td>10</td>\n",
              "      <td>0</td>\n",
              "      <td>0</td>\n",
              "      <td>0</td>\n",
              "      <td>0.0</td>\n",
              "    </tr>\n",
              "    <tr>\n",
              "      <th>109207</th>\n",
              "      <td>0</td>\n",
              "      <td>0.676427</td>\n",
              "      <td>46</td>\n",
              "      <td>0</td>\n",
              "      <td>2527.0</td>\n",
              "      <td>0.0</td>\n",
              "      <td>13</td>\n",
              "      <td>0</td>\n",
              "      <td>1</td>\n",
              "      <td>0</td>\n",
              "      <td>0.0</td>\n",
              "    </tr>\n",
              "    <tr>\n",
              "      <th>109243</th>\n",
              "      <td>0</td>\n",
              "      <td>0.020704</td>\n",
              "      <td>39</td>\n",
              "      <td>0</td>\n",
              "      <td>1403.0</td>\n",
              "      <td>0.0</td>\n",
              "      <td>3</td>\n",
              "      <td>0</td>\n",
              "      <td>1</td>\n",
              "      <td>0</td>\n",
              "      <td>0.0</td>\n",
              "    </tr>\n",
              "    <tr>\n",
              "      <th>109510</th>\n",
              "      <td>0</td>\n",
              "      <td>0.240635</td>\n",
              "      <td>55</td>\n",
              "      <td>0</td>\n",
              "      <td>54.0</td>\n",
              "      <td>0.0</td>\n",
              "      <td>3</td>\n",
              "      <td>0</td>\n",
              "      <td>0</td>\n",
              "      <td>0</td>\n",
              "      <td>0.0</td>\n",
              "    </tr>\n",
              "    <tr>\n",
              "      <th>109607</th>\n",
              "      <td>0</td>\n",
              "      <td>0.544091</td>\n",
              "      <td>55</td>\n",
              "      <td>0</td>\n",
              "      <td>590.0</td>\n",
              "      <td>0.0</td>\n",
              "      <td>3</td>\n",
              "      <td>0</td>\n",
              "      <td>1</td>\n",
              "      <td>0</td>\n",
              "      <td>0.0</td>\n",
              "    </tr>\n",
              "  </tbody>\n",
              "</table>\n",
              "<p>1216 rows × 11 columns</p>\n",
              "</div>"
            ],
            "text/plain": [
              "        inadimplente  ...  numero_de_dependentes\n",
              "14                 0  ...                    0.0\n",
              "50                 0  ...                    0.0\n",
              "73                 0  ...                    1.0\n",
              "90                 0  ...                    0.0\n",
              "298                0  ...                    0.0\n",
              "...              ...  ...                    ...\n",
              "108994             0  ...                    0.0\n",
              "109207             0  ...                    0.0\n",
              "109243             0  ...                    0.0\n",
              "109510             0  ...                    0.0\n",
              "109607             0  ...                    0.0\n",
              "\n",
              "[1216 rows x 11 columns]"
            ]
          },
          "metadata": {
            "tags": []
          },
          "execution_count": 12
        }
      ]
    },
    {
      "cell_type": "code",
      "metadata": {
        "colab": {
          "base_uri": "https://localhost:8080/"
        },
        "id": "Y57B15qSZxjP",
        "outputId": "f5eac4b4-74e6-45d7-b8d1-6acc637cb7ff"
      },
      "source": [
        "# Pessoas com valores nulos em \"num de dependentes\" também possuem nulo no salário\n",
        "df[df['numero_de_dependentes'].isnull()]['salario_mensal'].sum()"
      ],
      "execution_count": null,
      "outputs": [
        {
          "output_type": "execute_result",
          "data": {
            "text/plain": [
              "0.0"
            ]
          },
          "metadata": {
            "tags": []
          },
          "execution_count": 13
        }
      ]
    },
    {
      "cell_type": "code",
      "metadata": {
        "id": "OYa2hThgVtTo"
      },
      "source": [
        "# Retirando registros com salários nulos\n",
        "df_notnull = df[~df.salario_mensal.isnull()]\n",
        "\n",
        "\n",
        "# Criando um dict para guardar a média de renda por idade.\n",
        "dict_idade_renda = df_notnull[['idade','salario_mensal']].groupby('idade').median().to_dict()['salario_mensal']\n",
        "\n",
        "\n",
        "# Recolocar os valores da média de salário por idade no lugar dos nulos.\n",
        "df.salario_mensal.fillna(df['idade'].map(dict_idade_renda), inplace=True)\n",
        "\n",
        "\n",
        "# Algumas idades não puderam ter a mediana calculada por conter apenas uma amostra na base, estas serão substituídas com média geral.\n",
        "df.salario_mensal.fillna(df['idade'].median(), inplace=True)\n",
        "\n",
        "\n",
        "# Removendo registros nulos da coluna de numero de dependentes\n",
        "df.dropna(axis=0, subset=['numero_de_dependentes'], inplace=True)"
      ],
      "execution_count": null,
      "outputs": []
    },
    {
      "cell_type": "code",
      "metadata": {
        "colab": {
          "base_uri": "https://localhost:8080/"
        },
        "id": "S7af85uiG02j",
        "outputId": "e6c47769-70f0-4898-925d-757734856365"
      },
      "source": [
        "# Conferindo a base após o tratamento de nulos\n",
        "df.isna().sum()"
      ],
      "execution_count": null,
      "outputs": [
        {
          "output_type": "execute_result",
          "data": {
            "text/plain": [
              "inadimplente                             0\n",
              "util_linhas_inseguras                    0\n",
              "idade                                    0\n",
              "vezes_passou_de_30_59_dias               0\n",
              "razao_debito                             0\n",
              "salario_mensal                           0\n",
              "numero_linhas_crdto_aberto               0\n",
              "numero_vezes_passou_90_dias              0\n",
              "numero_emprestimos_imobiliarios          0\n",
              "numero_de_vezes_que_passou_60_89_dias    0\n",
              "numero_de_dependentes                    0\n",
              "dtype: int64"
            ]
          },
          "metadata": {
            "tags": []
          },
          "execution_count": 15
        }
      ]
    },
    {
      "cell_type": "markdown",
      "metadata": {
        "id": "1WpTz9j_KqgL"
      },
      "source": [
        "# **Tratando idade nula**"
      ]
    },
    {
      "cell_type": "code",
      "metadata": {
        "colab": {
          "base_uri": "https://localhost:8080/",
          "height": 101
        },
        "id": "dnq1rrakJA-T",
        "outputId": "2645ff07-167b-46c2-faa3-9857ac1c2865"
      },
      "source": [
        "df[df.idade==0]"
      ],
      "execution_count": null,
      "outputs": [
        {
          "output_type": "execute_result",
          "data": {
            "text/html": [
              "<div>\n",
              "<style scoped>\n",
              "    .dataframe tbody tr th:only-of-type {\n",
              "        vertical-align: middle;\n",
              "    }\n",
              "\n",
              "    .dataframe tbody tr th {\n",
              "        vertical-align: top;\n",
              "    }\n",
              "\n",
              "    .dataframe thead th {\n",
              "        text-align: right;\n",
              "    }\n",
              "</style>\n",
              "<table border=\"1\" class=\"dataframe\">\n",
              "  <thead>\n",
              "    <tr style=\"text-align: right;\">\n",
              "      <th></th>\n",
              "      <th>inadimplente</th>\n",
              "      <th>util_linhas_inseguras</th>\n",
              "      <th>idade</th>\n",
              "      <th>vezes_passou_de_30_59_dias</th>\n",
              "      <th>razao_debito</th>\n",
              "      <th>salario_mensal</th>\n",
              "      <th>numero_linhas_crdto_aberto</th>\n",
              "      <th>numero_vezes_passou_90_dias</th>\n",
              "      <th>numero_emprestimos_imobiliarios</th>\n",
              "      <th>numero_de_vezes_que_passou_60_89_dias</th>\n",
              "      <th>numero_de_dependentes</th>\n",
              "    </tr>\n",
              "  </thead>\n",
              "  <tbody>\n",
              "    <tr>\n",
              "      <th>65695</th>\n",
              "      <td>0</td>\n",
              "      <td>1.0</td>\n",
              "      <td>0</td>\n",
              "      <td>1</td>\n",
              "      <td>0.436927</td>\n",
              "      <td>6000.0</td>\n",
              "      <td>6</td>\n",
              "      <td>0</td>\n",
              "      <td>2</td>\n",
              "      <td>0</td>\n",
              "      <td>2.0</td>\n",
              "    </tr>\n",
              "  </tbody>\n",
              "</table>\n",
              "</div>"
            ],
            "text/plain": [
              "       inadimplente  ...  numero_de_dependentes\n",
              "65695             0  ...                    2.0\n",
              "\n",
              "[1 rows x 11 columns]"
            ]
          },
          "metadata": {
            "tags": []
          },
          "execution_count": 16
        }
      ]
    },
    {
      "cell_type": "code",
      "metadata": {
        "id": "GDeXI7v5JS1r"
      },
      "source": [
        "# Removendo este registro por conter valor de idade igual a zero\n",
        "df.drop(65695, inplace=True)"
      ],
      "execution_count": null,
      "outputs": []
    },
    {
      "cell_type": "markdown",
      "metadata": {
        "id": "GJL54_oDNlDD"
      },
      "source": [
        "# **Analisando as features**\n",
        "\n",
        "    O objetivo é verificar se podemos desconsiderar algumas das features caso elas tenham algumas das seguintes condições:\n",
        "    1. Baixa variabilidade\n",
        "    2. Alta correlação com alguma outra feature\n"
      ]
    },
    {
      "cell_type": "code",
      "metadata": {
        "id": "Wb0Ol6YhNMmq"
      },
      "source": [
        "df_corr = df.drop(columns='inadimplente').corr().round(2)"
      ],
      "execution_count": null,
      "outputs": []
    },
    {
      "cell_type": "code",
      "metadata": {
        "colab": {
          "base_uri": "https://localhost:8080/",
          "height": 800
        },
        "id": "E4rRf_GmMYJ7",
        "outputId": "d12aac61-c7ed-4bec-c92b-15c11f4f9902"
      },
      "source": [
        "plt.figure(figsize=(15,10))\n",
        "sns.heatmap(df_corr, annot=True, cmap='Oranges');"
      ],
      "execution_count": null,
      "outputs": [
        {
          "output_type": "display_data",
          "data": {
            "image/png": "[encoded data removed]",
            "text/plain": [
              "<Figure size 1080x720 with 2 Axes>"
            ]
          },
          "metadata": {
            "tags": [],
            "needs_background": "light"
          }
        }
      ]
    },
    {
      "cell_type": "markdown",
      "metadata": {
        "id": "Il-7gmLnRJ5C"
      },
      "source": [
        "As features de atraso no pagamento estão altamente correlacionadas !\n",
        "\n",
        "Para evitar excluir informação de alguma delas, vou criar uma nova coluna que some todas as vezes que o cliente deixou de pagar independentemente do prazo."
      ]
    },
    {
      "cell_type": "code",
      "metadata": {
        "id": "852tlC0GQxC6"
      },
      "source": [
        "# Somando todas as vezes que o cliente atrasou o pagamento\n",
        "df['num_atrasos_pagamento'] = df[['vezes_passou_de_30_59_dias', \n",
        "                                  'numero_de_vezes_que_passou_60_89_dias', \n",
        "                                  'numero_vezes_passou_90_dias']].sum(axis=1)"
      ],
      "execution_count": null,
      "outputs": []
    },
    {
      "cell_type": "code",
      "metadata": {
        "id": "-pYCRi5PRdGL"
      },
      "source": [
        "# Removendo as features de atraso em cada prazo\n",
        "df.drop(['vezes_passou_de_30_59_dias', \n",
        "         'numero_de_vezes_que_passou_60_89_dias', \n",
        "         'numero_vezes_passou_90_dias'], axis=1, inplace=True)"
      ],
      "execution_count": null,
      "outputs": []
    },
    {
      "cell_type": "code",
      "metadata": {
        "colab": {
          "base_uri": "https://localhost:8080/",
          "height": 363
        },
        "id": "IGGYfQvpW8rK",
        "outputId": "489da738-ed9a-41a8-b31b-bd4c5c293065"
      },
      "source": [
        "df.head(10)"
      ],
      "execution_count": null,
      "outputs": [
        {
          "output_type": "execute_result",
          "data": {
            "text/html": [
              "<div>\n",
              "<style scoped>\n",
              "    .dataframe tbody tr th:only-of-type {\n",
              "        vertical-align: middle;\n",
              "    }\n",
              "\n",
              "    .dataframe tbody tr th {\n",
              "        vertical-align: top;\n",
              "    }\n",
              "\n",
              "    .dataframe thead th {\n",
              "        text-align: right;\n",
              "    }\n",
              "</style>\n",
              "<table border=\"1\" class=\"dataframe\">\n",
              "  <thead>\n",
              "    <tr style=\"text-align: right;\">\n",
              "      <th></th>\n",
              "      <th>inadimplente</th>\n",
              "      <th>util_linhas_inseguras</th>\n",
              "      <th>idade</th>\n",
              "      <th>razao_debito</th>\n",
              "      <th>salario_mensal</th>\n",
              "      <th>numero_linhas_crdto_aberto</th>\n",
              "      <th>numero_emprestimos_imobiliarios</th>\n",
              "      <th>numero_de_dependentes</th>\n",
              "      <th>num_atrasos_pagamento</th>\n",
              "    </tr>\n",
              "  </thead>\n",
              "  <tbody>\n",
              "    <tr>\n",
              "      <th>0</th>\n",
              "      <td>1</td>\n",
              "      <td>0.766127</td>\n",
              "      <td>45</td>\n",
              "      <td>0.802982</td>\n",
              "      <td>9120.0</td>\n",
              "      <td>13</td>\n",
              "      <td>6</td>\n",
              "      <td>2.0</td>\n",
              "      <td>2</td>\n",
              "    </tr>\n",
              "    <tr>\n",
              "      <th>1</th>\n",
              "      <td>0</td>\n",
              "      <td>0.957151</td>\n",
              "      <td>40</td>\n",
              "      <td>0.121876</td>\n",
              "      <td>2600.0</td>\n",
              "      <td>4</td>\n",
              "      <td>0</td>\n",
              "      <td>1.0</td>\n",
              "      <td>0</td>\n",
              "    </tr>\n",
              "    <tr>\n",
              "      <th>2</th>\n",
              "      <td>0</td>\n",
              "      <td>0.658180</td>\n",
              "      <td>38</td>\n",
              "      <td>0.085113</td>\n",
              "      <td>3042.0</td>\n",
              "      <td>2</td>\n",
              "      <td>0</td>\n",
              "      <td>0.0</td>\n",
              "      <td>2</td>\n",
              "    </tr>\n",
              "    <tr>\n",
              "      <th>3</th>\n",
              "      <td>0</td>\n",
              "      <td>0.233810</td>\n",
              "      <td>30</td>\n",
              "      <td>0.036050</td>\n",
              "      <td>3300.0</td>\n",
              "      <td>5</td>\n",
              "      <td>0</td>\n",
              "      <td>0.0</td>\n",
              "      <td>0</td>\n",
              "    </tr>\n",
              "    <tr>\n",
              "      <th>4</th>\n",
              "      <td>0</td>\n",
              "      <td>0.907239</td>\n",
              "      <td>49</td>\n",
              "      <td>0.024926</td>\n",
              "      <td>63588.0</td>\n",
              "      <td>7</td>\n",
              "      <td>1</td>\n",
              "      <td>0.0</td>\n",
              "      <td>1</td>\n",
              "    </tr>\n",
              "    <tr>\n",
              "      <th>5</th>\n",
              "      <td>0</td>\n",
              "      <td>0.213179</td>\n",
              "      <td>74</td>\n",
              "      <td>0.375607</td>\n",
              "      <td>3500.0</td>\n",
              "      <td>3</td>\n",
              "      <td>1</td>\n",
              "      <td>1.0</td>\n",
              "      <td>0</td>\n",
              "    </tr>\n",
              "    <tr>\n",
              "      <th>6</th>\n",
              "      <td>0</td>\n",
              "      <td>0.305682</td>\n",
              "      <td>57</td>\n",
              "      <td>5710.000000</td>\n",
              "      <td>6451.0</td>\n",
              "      <td>8</td>\n",
              "      <td>3</td>\n",
              "      <td>0.0</td>\n",
              "      <td>0</td>\n",
              "    </tr>\n",
              "    <tr>\n",
              "      <th>7</th>\n",
              "      <td>0</td>\n",
              "      <td>0.754464</td>\n",
              "      <td>39</td>\n",
              "      <td>0.209940</td>\n",
              "      <td>3500.0</td>\n",
              "      <td>8</td>\n",
              "      <td>0</td>\n",
              "      <td>0.0</td>\n",
              "      <td>0</td>\n",
              "    </tr>\n",
              "    <tr>\n",
              "      <th>9</th>\n",
              "      <td>0</td>\n",
              "      <td>0.189169</td>\n",
              "      <td>57</td>\n",
              "      <td>0.606291</td>\n",
              "      <td>23684.0</td>\n",
              "      <td>9</td>\n",
              "      <td>4</td>\n",
              "      <td>2.0</td>\n",
              "      <td>0</td>\n",
              "    </tr>\n",
              "    <tr>\n",
              "      <th>10</th>\n",
              "      <td>0</td>\n",
              "      <td>0.644226</td>\n",
              "      <td>30</td>\n",
              "      <td>0.309476</td>\n",
              "      <td>2500.0</td>\n",
              "      <td>5</td>\n",
              "      <td>0</td>\n",
              "      <td>0.0</td>\n",
              "      <td>0</td>\n",
              "    </tr>\n",
              "  </tbody>\n",
              "</table>\n",
              "</div>"
            ],
            "text/plain": [
              "    inadimplente  ...  num_atrasos_pagamento\n",
              "0              1  ...                      2\n",
              "1              0  ...                      0\n",
              "2              0  ...                      2\n",
              "3              0  ...                      0\n",
              "4              0  ...                      1\n",
              "5              0  ...                      0\n",
              "6              0  ...                      0\n",
              "7              0  ...                      0\n",
              "9              0  ...                      0\n",
              "10             0  ...                      0\n",
              "\n",
              "[10 rows x 9 columns]"
            ]
          },
          "metadata": {
            "tags": []
          },
          "execution_count": 22
        }
      ]
    },
    {
      "cell_type": "markdown",
      "metadata": {
        "id": "ScrvFo-lcJJq"
      },
      "source": [
        ""
      ]
    },
    {
      "cell_type": "markdown",
      "metadata": {
        "id": "K1m2WR0IqDCp"
      },
      "source": [
        "# **Criação base de treino e validação**"
      ]
    },
    {
      "cell_type": "code",
      "metadata": {
        "id": "u1Cif-rvvyx4"
      },
      "source": [
        "# Definindo features e target\n",
        "target   = 'inadimplente'\n",
        "features = [x for x in df.columns if x != target]\n",
        "\n",
        "X = df.filter(features)\n",
        "y = df[target]"
      ],
      "execution_count": null,
      "outputs": []
    },
    {
      "cell_type": "code",
      "metadata": {
        "id": "KEXsDSdoqA7g"
      },
      "source": [
        "# Selecionando base de treino e teste\n",
        "from sklearn.model_selection import train_test_split\n",
        "\n",
        "X_train, X_test, y_train, y_test = train_test_split(X, y, test_size=0.2, stratify=y, random_state=42)"
      ],
      "execution_count": null,
      "outputs": []
    },
    {
      "cell_type": "code",
      "metadata": {
        "id": "3UFoc6z0-pIH"
      },
      "source": [
        "# Vamos definir uma variável para armazenar as métricas de cada modelo:\n",
        "from sklearn.metrics import accuracy_score, precision_score, recall_score, f1_score, roc_auc_score, balanced_accuracy_score\n",
        "\n",
        "score_list = ['accuracy', 'balanced_accuracy', 'precision', 'recall', 'f1', 'roc_auc']\n",
        "\n",
        "metrics = {\n",
        "    'model'       : [],\n",
        "    'accuracy'    : [],\n",
        "    'bl_accuracy' : [],\n",
        "    'precision'   : [],\n",
        "    'recall'      : [],\n",
        "    'f1-score'    : [],\n",
        "    'AUC'         : []\n",
        "}\n",
        "\n",
        "# Definindo uma função pra incluir as métricas no dicionário depois de rodar cada modelo de classificação\n",
        "def save_metrics(y_test, y_pred, y_prob, model_name):\n",
        "\n",
        "    metrics['model'].append(model_name)\n",
        "    metrics['accuracy'].append(accuracy_score(y_test, y_pred))\n",
        "    metrics['bl_accuracy'].append(balanced_accuracy_score(y_test, y_pred))\n",
        "    metrics['recall'].append(recall_score(y_test, y_pred))\n",
        "    metrics['precision'].append(precision_score(y_test, y_pred))\n",
        "    metrics['f1-score'].append(f1_score(y_test, y_pred))\n",
        "    metrics['AUC'].append(roc_auc_score(y_test, y_prob[:,1]))"
      ],
      "execution_count": null,
      "outputs": []
    },
    {
      "cell_type": "markdown",
      "metadata": {
        "id": "Ioj2VYoYK5v2"
      },
      "source": [
        "# **Rodando modelos**"
      ]
    },
    {
      "cell_type": "code",
      "metadata": {
        "id": "lt8uaV_Rp_-x"
      },
      "source": [
        "# Modelos\n",
        "from sklearn.linear_model import LogisticRegression\n",
        "from sklearn.tree import DecisionTreeClassifier\n",
        "from sklearn.ensemble import RandomForestClassifier\n",
        "from sklearn.ensemble import GradientBoostingClassifier\n",
        "\n",
        "# Pre-Processamento\n",
        "from sklearn.pipeline import Pipeline\n",
        "from sklearn.model_selection import learning_curve\n",
        "from sklearn.preprocessing import StandardScaler\n",
        "from feature_engine.wrappers import SklearnTransformerWrapper"
      ],
      "execution_count": null,
      "outputs": []
    },
    {
      "cell_type": "markdown",
      "metadata": {
        "id": "cGbprnBhRDMZ"
      },
      "source": [
        "## # Logistic Regression"
      ]
    },
    {
      "cell_type": "code",
      "metadata": {
        "id": "Oh8G_oyF486l"
      },
      "source": [
        "lr = Pipeline(\n",
        "    steps = [\n",
        "        ('scaling', SklearnTransformerWrapper(transformer=StandardScaler(), variables=features)),\n",
        "        ('lr',LogisticRegression(random_state=42, max_iter=500))]\n",
        "        )\n",
        "\n",
        "\n",
        "lr.fit(X_train, y_train)\n",
        "\n",
        "y_pred = lr.predict(X_test)\n",
        "y_prob = lr.predict_proba(X_test)\n",
        "\n",
        "save_metrics(y_test,y_pred,y_prob,'Logistic Regression')"
      ],
      "execution_count": null,
      "outputs": []
    },
    {
      "cell_type": "markdown",
      "metadata": {
        "id": "1wtI9F5ORKc-"
      },
      "source": [
        "## # Decision Tree"
      ]
    },
    {
      "cell_type": "code",
      "metadata": {
        "id": "jWljOq7TErf1"
      },
      "source": [
        "dt = DecisionTreeClassifier(random_state=42)\n",
        "\n",
        "dt.fit(X_train, y_train)\n",
        "\n",
        "y_pred = dt.predict(X_test)\n",
        "y_prob = dt.predict_proba(X_test)\n",
        "\n",
        "save_metrics(y_test, y_pred, y_prob, 'Decision Tree')"
      ],
      "execution_count": null,
      "outputs": []
    },
    {
      "cell_type": "markdown",
      "metadata": {
        "id": "LxN0wjpdRM7f"
      },
      "source": [
        "## # Random Forest"
      ]
    },
    {
      "cell_type": "code",
      "metadata": {
        "id": "IJojqow5HzFO"
      },
      "source": [
        "rf = RandomForestClassifier(random_state=42)\n",
        "\n",
        "rf.fit(X_train, y_train)\n",
        "\n",
        "y_pred = rf.predict(X_test)\n",
        "y_prob = rf.predict_proba(X_test)\n",
        "\n",
        "save_metrics(y_test, y_pred, y_prob, 'Random Forest')"
      ],
      "execution_count": null,
      "outputs": []
    },
    {
      "cell_type": "markdown",
      "metadata": {
        "id": "jg7sevtyRGx_"
      },
      "source": [
        "## # Gradient boosting"
      ]
    },
    {
      "cell_type": "code",
      "metadata": {
        "id": "ZijQtpBiDBYl"
      },
      "source": [
        "gb = GradientBoostingClassifier(random_state=42)\n",
        "\n",
        "gb.fit(X_train, y_train)\n",
        "\n",
        "y_pred = gb.predict(X_test)\n",
        "y_prob = gb.predict_proba(X_test)\n",
        "\n",
        "save_metrics(y_test,y_pred,y_prob,'Gradient Boosting')"
      ],
      "execution_count": null,
      "outputs": []
    },
    {
      "cell_type": "markdown",
      "metadata": {
        "id": "B7pFlr-MRYfG"
      },
      "source": [
        "## Avaliando métricas"
      ]
    },
    {
      "cell_type": "markdown",
      "metadata": {
        "id": "BfqLsl8mbmXj"
      },
      "source": [
        "## Testando diferentes % da base para treino (Learning Curve)"
      ]
    },
    {
      "cell_type": "code",
      "metadata": {
        "id": "vezYdYaqtBGT"
      },
      "source": [
        "# Quantidade de proporções da base de treino para testar.\n",
        "train_sizes = np.linspace(start=0.5, stop=0.9, num=5)\n",
        "\n",
        "models = [(lr,'Logistic Regression'), (dt, 'Decision Tree'), (rf, 'Random Forest'), (gb, 'Gradient Boosting')]\n",
        "\n",
        "fig, axes = plt.subplots(3,4, figsize=(30,15))\n",
        "\n",
        "for model in models:\n",
        "\n",
        "    #Pegar a posição do modelo na lista\n",
        "    model_num = models.index(model)\n",
        "\n",
        "    # Calculando os números da learning curve\n",
        "    train_sizes, train_scores, test_scores, fit_times, _ = learning_curve(estimator=model[0], \n",
        "                                                                          X=X, \n",
        "                                                                          y=y, \n",
        "                                                                          train_sizes=train_sizes, \n",
        "                                                                          cv=10, \n",
        "                                                                          return_times=True, \n",
        "                                                                          random_state=42)\n",
        "\n",
        "\n",
        "    #Calcular as médias de cada rodada da validação cruzada\n",
        "    train_scores_mean = np.mean(train_scores, axis=1)\n",
        "    train_scores_std = np.std(train_scores, axis=1)\n",
        "    test_scores_mean = np.mean(test_scores, axis=1)\n",
        "    test_scores_std = np.std(test_scores, axis=1)\n",
        "    fit_times_mean = np.mean(fit_times, axis=1)\n",
        "    fit_times_std = np.std(fit_times, axis=1)\n",
        "\n",
        "\n",
        "    # Plotar a curva\n",
        "    axes[0,model_num].grid()\n",
        "    axes[0,model_num].plot(train_sizes, train_scores_mean, 'o-', color=\"r\", label=\"Training score\")\n",
        "    axes[0,model_num].plot(train_sizes, test_scores_mean, 'o-', color=\"g\", label=\"Cross-validation score\")\n",
        "    axes[0,model_num].fill_between(train_sizes,\n",
        "                                   train_scores_mean - train_scores_std,\n",
        "                                   train_scores_mean + train_scores_std,\n",
        "                                   alpha=0.1,\n",
        "                                   color=\"r\")\n",
        "    axes[0,model_num].fill_between(train_sizes,\n",
        "                                   test_scores_mean - test_scores_std,\n",
        "                                   test_scores_mean + test_scores_std, alpha=0.1,\n",
        "                                   color=\"g\")\n",
        "    axes[0,model_num].legend(loc=\"best\")\n",
        "    axes[0,model_num].set_title('Modelo: ' + model[1], fontsize=15)\n",
        "    axes[0,model_num].set_xlabel('Training Sample')\n",
        "    axes[0,model_num].set_ylabel('Score')\n",
        "\n",
        "\n",
        "    # Plotar qtde amostral vs tempo de treino\n",
        "    axes[1,model_num].grid()\n",
        "    axes[1,model_num].plot(train_sizes, fit_times_mean, 'o-')\n",
        "    axes[1,model_num].fill_between(train_sizes,\n",
        "                                   fit_times_mean - fit_times_std,\n",
        "                                   fit_times_mean + fit_times_std,\n",
        "                                   alpha=0.1)\n",
        "    axes[1,model_num].set_xlabel(\"Training examples\")\n",
        "    axes[1,model_num].set_ylabel(\"fit_times\")\n",
        "    axes[1,model_num].set_title(\"Scalability of the model\", fontsize=15)\n",
        "\n",
        "\n",
        "    # Plotar score vs tempo de treino\n",
        "    axes[2,model_num].grid()\n",
        "    axes[2,model_num].plot(fit_times_mean, test_scores_mean, 'o-')\n",
        "    axes[2,model_num].fill_between(fit_times_mean,\n",
        "                                   test_scores_mean - test_scores_std,\n",
        "                                   test_scores_mean + test_scores_std,\n",
        "                                   alpha=0.1)\n",
        "    axes[2,model_num].set_xlabel(\"fit_times\")\n",
        "    axes[2,model_num].set_ylabel(\"Score\")\n",
        "    axes[2,model_num].set_title(\"Performance of the model\", fontsize=15)\n",
        "\n",
        "plt.subplots_adjust(hspace=0.4)\n",
        "plt.show()\n",
        "\n",
        "# Obrigado scikit-learn pelo material: \n",
        "# https://scikit-learn.org/stable/auto_examples/model_selection/plot_learning_curve.html#sphx-glr-auto-examples-model-selection-plot-learning-curve-py"
      ],
      "execution_count": null,
      "outputs": []
    },
    {
      "cell_type": "markdown",
      "metadata": {
        "id": "XG44fG5Q7eBB"
      },
      "source": [
        "## **Conclusão:**\n",
        "\n",
        "O modelo de regressão logística apresentou um pico de score com 80% da base sendo utilizada para treino enquanto os demais modelos de árvore e ensemble não apresentaram grandes destaques. vale mencionar a melhora no score do modelo Gradient Boosting com o acréscimo da quantidade treinada.\n",
        "\n",
        "Por fim, dado está análise iremos manter o valor de **80% da base de treino.**"
      ]
    },
    {
      "cell_type": "markdown",
      "metadata": {
        "id": "4X_IYpTwV2pR"
      },
      "source": [
        "# **Validação cruzada**"
      ]
    },
    {
      "cell_type": "code",
      "metadata": {
        "id": "2s3UpOltV5pn"
      },
      "source": [
        "from sklearn.model_selection import cross_validate\n",
        "from sklearn.model_selection import StratifiedKFold\n",
        "\n",
        "skf = StratifiedKFold(n_splits=5, shuffle=True, random_state=42)\n",
        "\n",
        "cv = cross_validate(lr, X=X, y=y, scoring=score_list, cv=skf)"
      ],
      "execution_count": null,
      "outputs": []
    },
    {
      "cell_type": "code",
      "metadata": {
        "colab": {
          "base_uri": "https://localhost:8080/",
          "height": 206
        },
        "id": "DsZb_A5nZLQe",
        "outputId": "37f47c46-e952-4f51-8ead-42b2435aa55a"
      },
      "source": [
        "# Olhando métricas do cv\n",
        "pd.DataFrame(cv)"
      ],
      "execution_count": null,
      "outputs": [
        {
          "output_type": "execute_result",
          "data": {
            "text/html": [
              "<div>\n",
              "<style scoped>\n",
              "    .dataframe tbody tr th:only-of-type {\n",
              "        vertical-align: middle;\n",
              "    }\n",
              "\n",
              "    .dataframe tbody tr th {\n",
              "        vertical-align: top;\n",
              "    }\n",
              "\n",
              "    .dataframe thead th {\n",
              "        text-align: right;\n",
              "    }\n",
              "</style>\n",
              "<table border=\"1\" class=\"dataframe\">\n",
              "  <thead>\n",
              "    <tr style=\"text-align: right;\">\n",
              "      <th></th>\n",
              "      <th>fit_time</th>\n",
              "      <th>score_time</th>\n",
              "      <th>test_accuracy</th>\n",
              "      <th>test_balanced_accuracy</th>\n",
              "      <th>test_precision</th>\n",
              "      <th>test_recall</th>\n",
              "      <th>test_f1</th>\n",
              "      <th>test_roc_auc</th>\n",
              "    </tr>\n",
              "  </thead>\n",
              "  <tbody>\n",
              "    <tr>\n",
              "      <th>0</th>\n",
              "      <td>0.384764</td>\n",
              "      <td>0.199473</td>\n",
              "      <td>0.932742</td>\n",
              "      <td>0.504164</td>\n",
              "      <td>0.481481</td>\n",
              "      <td>0.009028</td>\n",
              "      <td>0.017723</td>\n",
              "      <td>0.659855</td>\n",
              "    </tr>\n",
              "    <tr>\n",
              "      <th>1</th>\n",
              "      <td>0.429633</td>\n",
              "      <td>0.207416</td>\n",
              "      <td>0.932972</td>\n",
              "      <td>0.507511</td>\n",
              "      <td>0.547619</td>\n",
              "      <td>0.015972</td>\n",
              "      <td>0.031039</td>\n",
              "      <td>0.645479</td>\n",
              "    </tr>\n",
              "    <tr>\n",
              "      <th>2</th>\n",
              "      <td>0.447719</td>\n",
              "      <td>0.200233</td>\n",
              "      <td>0.933159</td>\n",
              "      <td>0.506966</td>\n",
              "      <td>0.617647</td>\n",
              "      <td>0.014583</td>\n",
              "      <td>0.028494</td>\n",
              "      <td>0.661190</td>\n",
              "    </tr>\n",
              "    <tr>\n",
              "      <th>3</th>\n",
              "      <td>0.410222</td>\n",
              "      <td>0.199895</td>\n",
              "      <td>0.933019</td>\n",
              "      <td>0.507858</td>\n",
              "      <td>0.558140</td>\n",
              "      <td>0.016667</td>\n",
              "      <td>0.032367</td>\n",
              "      <td>0.653043</td>\n",
              "    </tr>\n",
              "    <tr>\n",
              "      <th>4</th>\n",
              "      <td>0.409869</td>\n",
              "      <td>0.216498</td>\n",
              "      <td>0.933112</td>\n",
              "      <td>0.506277</td>\n",
              "      <td>0.593750</td>\n",
              "      <td>0.013204</td>\n",
              "      <td>0.025833</td>\n",
              "      <td>0.654645</td>\n",
              "    </tr>\n",
              "  </tbody>\n",
              "</table>\n",
              "</div>"
            ],
            "text/plain": [
              "   fit_time  score_time  test_accuracy  ...  test_recall   test_f1  test_roc_auc\n",
              "0  0.384764    0.199473       0.932742  ...     0.009028  0.017723      0.659855\n",
              "1  0.429633    0.207416       0.932972  ...     0.015972  0.031039      0.645479\n",
              "2  0.447719    0.200233       0.933159  ...     0.014583  0.028494      0.661190\n",
              "3  0.410222    0.199895       0.933019  ...     0.016667  0.032367      0.653043\n",
              "4  0.409869    0.216498       0.933112  ...     0.013204  0.025833      0.654645\n",
              "\n",
              "[5 rows x 8 columns]"
            ]
          },
          "metadata": {
            "tags": []
          },
          "execution_count": 34
        }
      ]
    },
    {
      "cell_type": "code",
      "metadata": {
        "id": "FAyeE7XhkT0l"
      },
      "source": [
        "# Construí uma função pra facilitar o preenchimento das métricas dentro do dicionário depois do cross validation\n",
        "def save_metrics_crossval(model_instance, features, target, scores_list, model_name):\n",
        "\n",
        "    cv_results = cross_validate(model_instance,\n",
        "                                features,\n",
        "                                target,\n",
        "                                scoring=scores_list,\n",
        "                                cv=skf,\n",
        "                                n_jobs=-1)\n",
        "\n",
        "    cv_results_df = pd.DataFrame(cv_results).mean().round(5)\n",
        "\n",
        "    metrics['model'].append(model_name)\n",
        "    metrics['accuracy'].append(cv_results_df['test_accuracy'])\n",
        "    metrics['bl_accuracy'].append(cv_results_df['test_balanced_accuracy'])\n",
        "    metrics['precision'].append(cv_results_df['test_precision'])\n",
        "    metrics['recall'].append(cv_results_df['test_recall'])\n",
        "    metrics['f1-score'].append(cv_results_df['test_f1'])\n",
        "    metrics['AUC'].append(cv_results_df['test_roc_auc'])"
      ],
      "execution_count": null,
      "outputs": []
    },
    {
      "cell_type": "code",
      "metadata": {
        "id": "kG97YSo4nc9x"
      },
      "source": [
        "# Salvando todas as métricas de cada modelo criado anteriormente\n",
        "save_metrics_crossval(lr, X, y, score_list,'Logistic Regression CV')\n",
        "save_metrics_crossval(dt, X, y, score_list,'Decision Tree CV')\n",
        "save_metrics_crossval(rf, X, y, score_list,'Random Forest CV')\n",
        "save_metrics_crossval(gb, X, y, score_list,'Gradient Boosting CV')"
      ],
      "execution_count": null,
      "outputs": []
    },
    {
      "cell_type": "code",
      "metadata": {
        "colab": {
          "base_uri": "https://localhost:8080/",
          "height": 300
        },
        "id": "1lNmbT9ak4Pt",
        "outputId": "79cb48be-1cfd-456a-afb1-3c9bba093262"
      },
      "source": [
        "# Olhar as métricas\n",
        "pd.DataFrame(metrics).sort_values('model')"
      ],
      "execution_count": null,
      "outputs": [
        {
          "output_type": "execute_result",
          "data": {
            "text/html": [
              "<div>\n",
              "<style scoped>\n",
              "    .dataframe tbody tr th:only-of-type {\n",
              "        vertical-align: middle;\n",
              "    }\n",
              "\n",
              "    .dataframe tbody tr th {\n",
              "        vertical-align: top;\n",
              "    }\n",
              "\n",
              "    .dataframe thead th {\n",
              "        text-align: right;\n",
              "    }\n",
              "</style>\n",
              "<table border=\"1\" class=\"dataframe\">\n",
              "  <thead>\n",
              "    <tr style=\"text-align: right;\">\n",
              "      <th></th>\n",
              "      <th>model</th>\n",
              "      <th>accuracy</th>\n",
              "      <th>bl_accuracy</th>\n",
              "      <th>precision</th>\n",
              "      <th>recall</th>\n",
              "      <th>f1-score</th>\n",
              "      <th>AUC</th>\n",
              "    </tr>\n",
              "  </thead>\n",
              "  <tbody>\n",
              "    <tr>\n",
              "      <th>1</th>\n",
              "      <td>Decision Tree</td>\n",
              "      <td>0.894796</td>\n",
              "      <td>0.605294</td>\n",
              "      <td>0.244668</td>\n",
              "      <td>0.270833</td>\n",
              "      <td>0.257086</td>\n",
              "      <td>0.605173</td>\n",
              "    </tr>\n",
              "    <tr>\n",
              "      <th>5</th>\n",
              "      <td>Decision Tree CV</td>\n",
              "      <td>0.894250</td>\n",
              "      <td>0.604760</td>\n",
              "      <td>0.242680</td>\n",
              "      <td>0.270310</td>\n",
              "      <td>0.255710</td>\n",
              "      <td>0.605380</td>\n",
              "    </tr>\n",
              "    <tr>\n",
              "      <th>3</th>\n",
              "      <td>Gradient Boosting</td>\n",
              "      <td>0.936289</td>\n",
              "      <td>0.587905</td>\n",
              "      <td>0.581699</td>\n",
              "      <td>0.185417</td>\n",
              "      <td>0.281201</td>\n",
              "      <td>0.861268</td>\n",
              "    </tr>\n",
              "    <tr>\n",
              "      <th>7</th>\n",
              "      <td>Gradient Boosting CV</td>\n",
              "      <td>0.936300</td>\n",
              "      <td>0.581020</td>\n",
              "      <td>0.590400</td>\n",
              "      <td>0.170580</td>\n",
              "      <td>0.264610</td>\n",
              "      <td>0.860710</td>\n",
              "    </tr>\n",
              "    <tr>\n",
              "      <th>0</th>\n",
              "      <td>Logistic Regression</td>\n",
              "      <td>0.932975</td>\n",
              "      <td>0.506544</td>\n",
              "      <td>0.555556</td>\n",
              "      <td>0.013889</td>\n",
              "      <td>0.027100</td>\n",
              "      <td>0.653751</td>\n",
              "    </tr>\n",
              "    <tr>\n",
              "      <th>4</th>\n",
              "      <td>Logistic Regression CV</td>\n",
              "      <td>0.933000</td>\n",
              "      <td>0.506560</td>\n",
              "      <td>0.559730</td>\n",
              "      <td>0.013890</td>\n",
              "      <td>0.027090</td>\n",
              "      <td>0.654840</td>\n",
              "    </tr>\n",
              "    <tr>\n",
              "      <th>2</th>\n",
              "      <td>Random Forest</td>\n",
              "      <td>0.933676</td>\n",
              "      <td>0.575227</td>\n",
              "      <td>0.521348</td>\n",
              "      <td>0.161111</td>\n",
              "      <td>0.246154</td>\n",
              "      <td>0.838997</td>\n",
              "    </tr>\n",
              "    <tr>\n",
              "      <th>6</th>\n",
              "      <td>Random Forest CV</td>\n",
              "      <td>0.934800</td>\n",
              "      <td>0.578800</td>\n",
              "      <td>0.549610</td>\n",
              "      <td>0.167520</td>\n",
              "      <td>0.256610</td>\n",
              "      <td>0.833520</td>\n",
              "    </tr>\n",
              "  </tbody>\n",
              "</table>\n",
              "</div>"
            ],
            "text/plain": [
              "                    model  accuracy  bl_accuracy  ...    recall  f1-score       AUC\n",
              "1           Decision Tree  0.894796     0.605294  ...  0.270833  0.257086  0.605173\n",
              "5        Decision Tree CV  0.894250     0.604760  ...  0.270310  0.255710  0.605380\n",
              "3       Gradient Boosting  0.936289     0.587905  ...  0.185417  0.281201  0.861268\n",
              "7    Gradient Boosting CV  0.936300     0.581020  ...  0.170580  0.264610  0.860710\n",
              "0     Logistic Regression  0.932975     0.506544  ...  0.013889  0.027100  0.653751\n",
              "4  Logistic Regression CV  0.933000     0.506560  ...  0.013890  0.027090  0.654840\n",
              "2           Random Forest  0.933676     0.575227  ...  0.161111  0.246154  0.838997\n",
              "6        Random Forest CV  0.934800     0.578800  ...  0.167520  0.256610  0.833520\n",
              "\n",
              "[8 rows x 7 columns]"
            ]
          },
          "metadata": {
            "tags": []
          },
          "execution_count": 37
        }
      ]
    },
    {
      "cell_type": "markdown",
      "metadata": {
        "id": "SuLdRDGWLCO0"
      },
      "source": [
        "# Rebalanceando variável target"
      ]
    },
    {
      "cell_type": "code",
      "metadata": {
        "id": "JdNY-x4ZLHl6"
      },
      "source": [
        "from imblearn.over_sampling import RandomOverSampler\n",
        "from imblearn.under_sampling import RandomUnderSampler\n",
        "from imblearn.over_sampling import SMOTE\n",
        "\n",
        "os = RandomOverSampler(random_state=42, sampling_strategy=0.2)\n",
        "us = RandomUnderSampler(random_state=42, sampling_strategy=0.8)\n",
        "sm = SMOTE(random_state=42, sampling_strategy=0.2)"
      ],
      "execution_count": null,
      "outputs": []
    },
    {
      "cell_type": "code",
      "metadata": {
        "id": "Xk8m5uddupeB"
      },
      "source": [
        "# Testar diferentes métodos de reamostragem\n",
        "X_over, y_over   = os.fit_resample(X_train, y_train)\n",
        "X_under, y_under = us.fit_resample(X_train, y_train)\n",
        "X_smote, y_smote = sm.fit_resample(X_train, y_train)\n",
        "X_sm_us, y_sm_us = us.fit_resample(X_smote, y_smote)\n",
        "\n",
        "tpl = [(X_over, y_over, 'OverSampled'), (X_under, y_under, 'UnderSampled'), (X_smote, y_smote, 'SMOTE'), (X_sm_us, y_sm_us, 'SMOTE-UnderSampled')]"
      ],
      "execution_count": null,
      "outputs": []
    },
    {
      "cell_type": "code",
      "metadata": {
        "id": "cA6JppqlA7K3"
      },
      "source": [
        "# Loop para rodar os 4 modelos em cada uma das 4 bases (X,y) rebalanceadas\n",
        "for a,b,c in tpl:\n",
        "\n",
        "    X_treino, X_teste, y_treino, y_teste = train_test_split(a, b, test_size=0.2, random_state=42)\n",
        "\n",
        "\n",
        "    lr.fit(X_treino, y_treino)\n",
        "    y_pred = lr.predict(X_teste)\n",
        "    y_prob = lr.predict_proba(X_teste)\n",
        "    model_name = 'Logistic Regression ' + c\n",
        "    save_metrics(y_teste,y_pred, y_prob, model_name=model_name)\n",
        "    \n",
        "\n",
        "    dt.fit(X_treino, y_treino)\n",
        "    y_pred = dt.predict(X_teste)\n",
        "    y_prob = dt.predict_proba(X_teste)\n",
        "    model_name = 'Decision Tree ' + c\n",
        "    save_metrics(y_teste, y_pred, y_prob, model_name=model_name)\n",
        "\n",
        "\n",
        "    rf.fit(X_treino, y_treino)\n",
        "    y_pred = rf.predict(X_teste)\n",
        "    y_prob = rf.predict_proba(X_teste)\n",
        "    model_name = 'Random Forest ' + c\n",
        "    save_metrics(y_teste, y_pred, y_prob, model_name=model_name)\n",
        "\n",
        "\n",
        "    gb.fit(X_treino, y_treino)\n",
        "    y_pred = gb.predict(X_teste)\n",
        "    y_prob = gb.predict_proba(X_teste)\n",
        "    model_name = 'Gradient Boosting ' + c\n",
        "    save_metrics(y_teste, y_pred, y_prob, model_name=model_name)"
      ],
      "execution_count": null,
      "outputs": []
    },
    {
      "cell_type": "code",
      "metadata": {
        "colab": {
          "base_uri": "https://localhost:8080/",
          "height": 802
        },
        "id": "AXxfNF2pUWo6",
        "outputId": "953d9bb3-5900-4a33-b8b3-326c8ac95b9e"
      },
      "source": [
        "# Olhando as métricas\n",
        "pd.DataFrame(metrics)"
      ],
      "execution_count": null,
      "outputs": [
        {
          "output_type": "execute_result",
          "data": {
            "text/html": [
              "<div>\n",
              "<style scoped>\n",
              "    .dataframe tbody tr th:only-of-type {\n",
              "        vertical-align: middle;\n",
              "    }\n",
              "\n",
              "    .dataframe tbody tr th {\n",
              "        vertical-align: top;\n",
              "    }\n",
              "\n",
              "    .dataframe thead th {\n",
              "        text-align: right;\n",
              "    }\n",
              "</style>\n",
              "<table border=\"1\" class=\"dataframe\">\n",
              "  <thead>\n",
              "    <tr style=\"text-align: right;\">\n",
              "      <th></th>\n",
              "      <th>model</th>\n",
              "      <th>accuracy</th>\n",
              "      <th>bl_accuracy</th>\n",
              "      <th>precision</th>\n",
              "      <th>recall</th>\n",
              "      <th>f1-score</th>\n",
              "      <th>AUC</th>\n",
              "    </tr>\n",
              "  </thead>\n",
              "  <tbody>\n",
              "    <tr>\n",
              "      <th>0</th>\n",
              "      <td>Logistic Regression</td>\n",
              "      <td>0.932975</td>\n",
              "      <td>0.506544</td>\n",
              "      <td>0.555556</td>\n",
              "      <td>0.013889</td>\n",
              "      <td>0.027100</td>\n",
              "      <td>0.653751</td>\n",
              "    </tr>\n",
              "    <tr>\n",
              "      <th>1</th>\n",
              "      <td>Decision Tree</td>\n",
              "      <td>0.894796</td>\n",
              "      <td>0.605294</td>\n",
              "      <td>0.244668</td>\n",
              "      <td>0.270833</td>\n",
              "      <td>0.257086</td>\n",
              "      <td>0.605173</td>\n",
              "    </tr>\n",
              "    <tr>\n",
              "      <th>2</th>\n",
              "      <td>Random Forest</td>\n",
              "      <td>0.933676</td>\n",
              "      <td>0.575227</td>\n",
              "      <td>0.521348</td>\n",
              "      <td>0.161111</td>\n",
              "      <td>0.246154</td>\n",
              "      <td>0.838997</td>\n",
              "    </tr>\n",
              "    <tr>\n",
              "      <th>3</th>\n",
              "      <td>Gradient Boosting</td>\n",
              "      <td>0.936289</td>\n",
              "      <td>0.587905</td>\n",
              "      <td>0.581699</td>\n",
              "      <td>0.185417</td>\n",
              "      <td>0.281201</td>\n",
              "      <td>0.861268</td>\n",
              "    </tr>\n",
              "    <tr>\n",
              "      <th>4</th>\n",
              "      <td>Logistic Regression CV</td>\n",
              "      <td>0.933000</td>\n",
              "      <td>0.506560</td>\n",
              "      <td>0.559730</td>\n",
              "      <td>0.013890</td>\n",
              "      <td>0.027090</td>\n",
              "      <td>0.654840</td>\n",
              "    </tr>\n",
              "    <tr>\n",
              "      <th>5</th>\n",
              "      <td>Decision Tree CV</td>\n",
              "      <td>0.894250</td>\n",
              "      <td>0.604760</td>\n",
              "      <td>0.242680</td>\n",
              "      <td>0.270310</td>\n",
              "      <td>0.255710</td>\n",
              "      <td>0.605380</td>\n",
              "    </tr>\n",
              "    <tr>\n",
              "      <th>6</th>\n",
              "      <td>Random Forest CV</td>\n",
              "      <td>0.934800</td>\n",
              "      <td>0.578800</td>\n",
              "      <td>0.549610</td>\n",
              "      <td>0.167520</td>\n",
              "      <td>0.256610</td>\n",
              "      <td>0.833520</td>\n",
              "    </tr>\n",
              "    <tr>\n",
              "      <th>7</th>\n",
              "      <td>Gradient Boosting CV</td>\n",
              "      <td>0.936300</td>\n",
              "      <td>0.581020</td>\n",
              "      <td>0.590400</td>\n",
              "      <td>0.170580</td>\n",
              "      <td>0.264610</td>\n",
              "      <td>0.860710</td>\n",
              "    </tr>\n",
              "    <tr>\n",
              "      <th>8</th>\n",
              "      <td>Logistic Regression OverSampled</td>\n",
              "      <td>0.839719</td>\n",
              "      <td>0.508002</td>\n",
              "      <td>0.825397</td>\n",
              "      <td>0.016688</td>\n",
              "      <td>0.032715</td>\n",
              "      <td>0.725548</td>\n",
              "    </tr>\n",
              "    <tr>\n",
              "      <th>9</th>\n",
              "      <td>Decision Tree OverSampled</td>\n",
              "      <td>0.930467</td>\n",
              "      <td>0.927578</td>\n",
              "      <td>0.724320</td>\n",
              "      <td>0.923299</td>\n",
              "      <td>0.811795</td>\n",
              "      <td>0.927980</td>\n",
              "    </tr>\n",
              "    <tr>\n",
              "      <th>10</th>\n",
              "      <td>Random Forest OverSampled</td>\n",
              "      <td>0.968778</td>\n",
              "      <td>0.949801</td>\n",
              "      <td>0.889991</td>\n",
              "      <td>0.921694</td>\n",
              "      <td>0.905565</td>\n",
              "      <td>0.979704</td>\n",
              "    </tr>\n",
              "    <tr>\n",
              "      <th>11</th>\n",
              "      <td>Gradient Boosting OverSampled</td>\n",
              "      <td>0.871983</td>\n",
              "      <td>0.699940</td>\n",
              "      <td>0.656102</td>\n",
              "      <td>0.445122</td>\n",
              "      <td>0.530402</td>\n",
              "      <td>0.866822</td>\n",
              "    </tr>\n",
              "    <tr>\n",
              "      <th>12</th>\n",
              "      <td>Logistic Regression UnderSampled</td>\n",
              "      <td>0.709105</td>\n",
              "      <td>0.690881</td>\n",
              "      <td>0.757269</td>\n",
              "      <td>0.515935</td>\n",
              "      <td>0.613730</td>\n",
              "      <td>0.771375</td>\n",
              "    </tr>\n",
              "    <tr>\n",
              "      <th>13</th>\n",
              "      <td>Decision Tree UnderSampled</td>\n",
              "      <td>0.684799</td>\n",
              "      <td>0.681382</td>\n",
              "      <td>0.648021</td>\n",
              "      <td>0.648579</td>\n",
              "      <td>0.648300</td>\n",
              "      <td>0.681690</td>\n",
              "    </tr>\n",
              "    <tr>\n",
              "      <th>14</th>\n",
              "      <td>Random Forest UnderSampled</td>\n",
              "      <td>0.761574</td>\n",
              "      <td>0.754083</td>\n",
              "      <td>0.760807</td>\n",
              "      <td>0.682171</td>\n",
              "      <td>0.719346</td>\n",
              "      <td>0.837600</td>\n",
              "    </tr>\n",
              "    <tr>\n",
              "      <th>15</th>\n",
              "      <td>Gradient Boosting UnderSampled</td>\n",
              "      <td>0.776235</td>\n",
              "      <td>0.769392</td>\n",
              "      <td>0.775878</td>\n",
              "      <td>0.703704</td>\n",
              "      <td>0.738031</td>\n",
              "      <td>0.852343</td>\n",
              "    </tr>\n",
              "    <tr>\n",
              "      <th>16</th>\n",
              "      <td>Logistic Regression SMOTE</td>\n",
              "      <td>0.838937</td>\n",
              "      <td>0.505595</td>\n",
              "      <td>0.770833</td>\n",
              "      <td>0.011874</td>\n",
              "      <td>0.023388</td>\n",
              "      <td>0.673413</td>\n",
              "    </tr>\n",
              "    <tr>\n",
              "      <th>17</th>\n",
              "      <td>Decision Tree SMOTE</td>\n",
              "      <td>0.874016</td>\n",
              "      <td>0.786393</td>\n",
              "      <td>0.603006</td>\n",
              "      <td>0.656611</td>\n",
              "      <td>0.628668</td>\n",
              "      <td>0.786470</td>\n",
              "    </tr>\n",
              "    <tr>\n",
              "      <th>18</th>\n",
              "      <td>Random Forest SMOTE</td>\n",
              "      <td>0.914517</td>\n",
              "      <td>0.791685</td>\n",
              "      <td>0.817556</td>\n",
              "      <td>0.609756</td>\n",
              "      <td>0.698529</td>\n",
              "      <td>0.932023</td>\n",
              "    </tr>\n",
              "    <tr>\n",
              "      <th>19</th>\n",
              "      <td>Gradient Boosting SMOTE</td>\n",
              "      <td>0.911702</td>\n",
              "      <td>0.774742</td>\n",
              "      <td>0.831933</td>\n",
              "      <td>0.571887</td>\n",
              "      <td>0.677824</td>\n",
              "      <td>0.918321</td>\n",
              "    </tr>\n",
              "    <tr>\n",
              "      <th>20</th>\n",
              "      <td>Logistic Regression SMOTE-UnderSampled</td>\n",
              "      <td>0.704754</td>\n",
              "      <td>0.691767</td>\n",
              "      <td>0.719194</td>\n",
              "      <td>0.563080</td>\n",
              "      <td>0.631634</td>\n",
              "      <td>0.776481</td>\n",
              "    </tr>\n",
              "    <tr>\n",
              "      <th>21</th>\n",
              "      <td>Decision Tree SMOTE-UnderSampled</td>\n",
              "      <td>0.783014</td>\n",
              "      <td>0.782609</td>\n",
              "      <td>0.748736</td>\n",
              "      <td>0.778602</td>\n",
              "      <td>0.763377</td>\n",
              "      <td>0.782825</td>\n",
              "    </tr>\n",
              "    <tr>\n",
              "      <th>22</th>\n",
              "      <td>Random Forest SMOTE-UnderSampled</td>\n",
              "      <td>0.846122</td>\n",
              "      <td>0.844779</td>\n",
              "      <td>0.827130</td>\n",
              "      <td>0.831478</td>\n",
              "      <td>0.829298</td>\n",
              "      <td>0.918828</td>\n",
              "    </tr>\n",
              "    <tr>\n",
              "      <th>23</th>\n",
              "      <td>Gradient Boosting SMOTE-UnderSampled</td>\n",
              "      <td>0.840284</td>\n",
              "      <td>0.835763</td>\n",
              "      <td>0.843946</td>\n",
              "      <td>0.790971</td>\n",
              "      <td>0.816600</td>\n",
              "      <td>0.916291</td>\n",
              "    </tr>\n",
              "  </tbody>\n",
              "</table>\n",
              "</div>"
            ],
            "text/plain": [
              "                                     model  accuracy  ...  f1-score       AUC\n",
              "0                      Logistic Regression  0.932975  ...  0.027100  0.653751\n",
              "1                            Decision Tree  0.894796  ...  0.257086  0.605173\n",
              "2                            Random Forest  0.933676  ...  0.246154  0.838997\n",
              "3                        Gradient Boosting  0.936289  ...  0.281201  0.861268\n",
              "4                   Logistic Regression CV  0.933000  ...  0.027090  0.654840\n",
              "5                         Decision Tree CV  0.894250  ...  0.255710  0.605380\n",
              "6                         Random Forest CV  0.934800  ...  0.256610  0.833520\n",
              "7                     Gradient Boosting CV  0.936300  ...  0.264610  0.860710\n",
              "8          Logistic Regression OverSampled  0.839719  ...  0.032715  0.725548\n",
              "9                Decision Tree OverSampled  0.930467  ...  0.811795  0.927980\n",
              "10               Random Forest OverSampled  0.968778  ...  0.905565  0.979704\n",
              "11           Gradient Boosting OverSampled  0.871983  ...  0.530402  0.866822\n",
              "12        Logistic Regression UnderSampled  0.709105  ...  0.613730  0.771375\n",
              "13              Decision Tree UnderSampled  0.684799  ...  0.648300  0.681690\n",
              "14              Random Forest UnderSampled  0.761574  ...  0.719346  0.837600\n",
              "15          Gradient Boosting UnderSampled  0.776235  ...  0.738031  0.852343\n",
              "16               Logistic Regression SMOTE  0.838937  ...  0.023388  0.673413\n",
              "17                     Decision Tree SMOTE  0.874016  ...  0.628668  0.786470\n",
              "18                     Random Forest SMOTE  0.914517  ...  0.698529  0.932023\n",
              "19                 Gradient Boosting SMOTE  0.911702  ...  0.677824  0.918321\n",
              "20  Logistic Regression SMOTE-UnderSampled  0.704754  ...  0.631634  0.776481\n",
              "21        Decision Tree SMOTE-UnderSampled  0.783014  ...  0.763377  0.782825\n",
              "22        Random Forest SMOTE-UnderSampled  0.846122  ...  0.829298  0.918828\n",
              "23    Gradient Boosting SMOTE-UnderSampled  0.840284  ...  0.816600  0.916291\n",
              "\n",
              "[24 rows x 7 columns]"
            ]
          },
          "metadata": {
            "tags": []
          },
          "execution_count": 41
        }
      ]
    },
    {
      "cell_type": "code",
      "metadata": {
        "id": "CUCgCM4VfosI"
      },
      "source": [
        "# Salvando todas as métricas de cada modelo criado anteriormente\n",
        "save_metrics_crossval(lr, X_smote, y_smote, score_list, 'Logistic Regression SMOTE CV')\n",
        "save_metrics_crossval(dt, X_smote, y_smote, score_list, 'Decision Tree SMOTE CV')\n",
        "save_metrics_crossval(rf, X_smote, y_smote, score_list, 'Random Forest SMOTE CV')\n",
        "save_metrics_crossval(gb, X_smote, y_smote, score_list, 'Gradient Boosting SMOTE CV')"
      ],
      "execution_count": null,
      "outputs": []
    },
    {
      "cell_type": "code",
      "metadata": {
        "colab": {
          "base_uri": "https://localhost:8080/",
          "height": 928
        },
        "id": "RlUNC10WOfD8",
        "outputId": "97bcc148-7f48-478a-9e51-11699116d50c"
      },
      "source": [
        "# Olhando as novas métricas\n",
        "pd.DataFrame(metrics).sort_values('recall', ascending=False)"
      ],
      "execution_count": null,
      "outputs": [
        {
          "output_type": "execute_result",
          "data": {
            "text/html": [
              "<div>\n",
              "<style scoped>\n",
              "    .dataframe tbody tr th:only-of-type {\n",
              "        vertical-align: middle;\n",
              "    }\n",
              "\n",
              "    .dataframe tbody tr th {\n",
              "        vertical-align: top;\n",
              "    }\n",
              "\n",
              "    .dataframe thead th {\n",
              "        text-align: right;\n",
              "    }\n",
              "</style>\n",
              "<table border=\"1\" class=\"dataframe\">\n",
              "  <thead>\n",
              "    <tr style=\"text-align: right;\">\n",
              "      <th></th>\n",
              "      <th>model</th>\n",
              "      <th>accuracy</th>\n",
              "      <th>bl_accuracy</th>\n",
              "      <th>precision</th>\n",
              "      <th>recall</th>\n",
              "      <th>f1-score</th>\n",
              "      <th>AUC</th>\n",
              "    </tr>\n",
              "  </thead>\n",
              "  <tbody>\n",
              "    <tr>\n",
              "      <th>9</th>\n",
              "      <td>Decision Tree OverSampled</td>\n",
              "      <td>0.930467</td>\n",
              "      <td>0.927578</td>\n",
              "      <td>0.724320</td>\n",
              "      <td>0.923299</td>\n",
              "      <td>0.811795</td>\n",
              "      <td>0.927980</td>\n",
              "    </tr>\n",
              "    <tr>\n",
              "      <th>10</th>\n",
              "      <td>Random Forest OverSampled</td>\n",
              "      <td>0.968778</td>\n",
              "      <td>0.949801</td>\n",
              "      <td>0.889991</td>\n",
              "      <td>0.921694</td>\n",
              "      <td>0.905565</td>\n",
              "      <td>0.979704</td>\n",
              "    </tr>\n",
              "    <tr>\n",
              "      <th>22</th>\n",
              "      <td>Random Forest SMOTE-UnderSampled</td>\n",
              "      <td>0.846122</td>\n",
              "      <td>0.844779</td>\n",
              "      <td>0.827130</td>\n",
              "      <td>0.831478</td>\n",
              "      <td>0.829298</td>\n",
              "      <td>0.918828</td>\n",
              "    </tr>\n",
              "    <tr>\n",
              "      <th>23</th>\n",
              "      <td>Gradient Boosting SMOTE-UnderSampled</td>\n",
              "      <td>0.840284</td>\n",
              "      <td>0.835763</td>\n",
              "      <td>0.843946</td>\n",
              "      <td>0.790971</td>\n",
              "      <td>0.816600</td>\n",
              "      <td>0.916291</td>\n",
              "    </tr>\n",
              "    <tr>\n",
              "      <th>21</th>\n",
              "      <td>Decision Tree SMOTE-UnderSampled</td>\n",
              "      <td>0.783014</td>\n",
              "      <td>0.782609</td>\n",
              "      <td>0.748736</td>\n",
              "      <td>0.778602</td>\n",
              "      <td>0.763377</td>\n",
              "      <td>0.782825</td>\n",
              "    </tr>\n",
              "    <tr>\n",
              "      <th>15</th>\n",
              "      <td>Gradient Boosting UnderSampled</td>\n",
              "      <td>0.776235</td>\n",
              "      <td>0.769392</td>\n",
              "      <td>0.775878</td>\n",
              "      <td>0.703704</td>\n",
              "      <td>0.738031</td>\n",
              "      <td>0.852343</td>\n",
              "    </tr>\n",
              "    <tr>\n",
              "      <th>14</th>\n",
              "      <td>Random Forest UnderSampled</td>\n",
              "      <td>0.761574</td>\n",
              "      <td>0.754083</td>\n",
              "      <td>0.760807</td>\n",
              "      <td>0.682171</td>\n",
              "      <td>0.719346</td>\n",
              "      <td>0.837600</td>\n",
              "    </tr>\n",
              "    <tr>\n",
              "      <th>17</th>\n",
              "      <td>Decision Tree SMOTE</td>\n",
              "      <td>0.874016</td>\n",
              "      <td>0.786393</td>\n",
              "      <td>0.603006</td>\n",
              "      <td>0.656611</td>\n",
              "      <td>0.628668</td>\n",
              "      <td>0.786470</td>\n",
              "    </tr>\n",
              "    <tr>\n",
              "      <th>13</th>\n",
              "      <td>Decision Tree UnderSampled</td>\n",
              "      <td>0.684799</td>\n",
              "      <td>0.681382</td>\n",
              "      <td>0.648021</td>\n",
              "      <td>0.648579</td>\n",
              "      <td>0.648300</td>\n",
              "      <td>0.681690</td>\n",
              "    </tr>\n",
              "    <tr>\n",
              "      <th>25</th>\n",
              "      <td>Decision Tree SMOTE CV</td>\n",
              "      <td>0.873150</td>\n",
              "      <td>0.780550</td>\n",
              "      <td>0.614370</td>\n",
              "      <td>0.641650</td>\n",
              "      <td>0.627700</td>\n",
              "      <td>0.780790</td>\n",
              "    </tr>\n",
              "    <tr>\n",
              "      <th>18</th>\n",
              "      <td>Random Forest SMOTE</td>\n",
              "      <td>0.914517</td>\n",
              "      <td>0.791685</td>\n",
              "      <td>0.817556</td>\n",
              "      <td>0.609756</td>\n",
              "      <td>0.698529</td>\n",
              "      <td>0.932023</td>\n",
              "    </tr>\n",
              "    <tr>\n",
              "      <th>26</th>\n",
              "      <td>Random Forest SMOTE CV</td>\n",
              "      <td>0.912970</td>\n",
              "      <td>0.789730</td>\n",
              "      <td>0.826450</td>\n",
              "      <td>0.604870</td>\n",
              "      <td>0.698500</td>\n",
              "      <td>0.930330</td>\n",
              "    </tr>\n",
              "    <tr>\n",
              "      <th>19</th>\n",
              "      <td>Gradient Boosting SMOTE</td>\n",
              "      <td>0.911702</td>\n",
              "      <td>0.774742</td>\n",
              "      <td>0.831933</td>\n",
              "      <td>0.571887</td>\n",
              "      <td>0.677824</td>\n",
              "      <td>0.918321</td>\n",
              "    </tr>\n",
              "    <tr>\n",
              "      <th>27</th>\n",
              "      <td>Gradient Boosting SMOTE CV</td>\n",
              "      <td>0.910860</td>\n",
              "      <td>0.772520</td>\n",
              "      <td>0.849790</td>\n",
              "      <td>0.565020</td>\n",
              "      <td>0.678720</td>\n",
              "      <td>0.917290</td>\n",
              "    </tr>\n",
              "    <tr>\n",
              "      <th>20</th>\n",
              "      <td>Logistic Regression SMOTE-UnderSampled</td>\n",
              "      <td>0.704754</td>\n",
              "      <td>0.691767</td>\n",
              "      <td>0.719194</td>\n",
              "      <td>0.563080</td>\n",
              "      <td>0.631634</td>\n",
              "      <td>0.776481</td>\n",
              "    </tr>\n",
              "    <tr>\n",
              "      <th>12</th>\n",
              "      <td>Logistic Regression UnderSampled</td>\n",
              "      <td>0.709105</td>\n",
              "      <td>0.690881</td>\n",
              "      <td>0.757269</td>\n",
              "      <td>0.515935</td>\n",
              "      <td>0.613730</td>\n",
              "      <td>0.771375</td>\n",
              "    </tr>\n",
              "    <tr>\n",
              "      <th>11</th>\n",
              "      <td>Gradient Boosting OverSampled</td>\n",
              "      <td>0.871983</td>\n",
              "      <td>0.699940</td>\n",
              "      <td>0.656102</td>\n",
              "      <td>0.445122</td>\n",
              "      <td>0.530402</td>\n",
              "      <td>0.866822</td>\n",
              "    </tr>\n",
              "    <tr>\n",
              "      <th>1</th>\n",
              "      <td>Decision Tree</td>\n",
              "      <td>0.894796</td>\n",
              "      <td>0.605294</td>\n",
              "      <td>0.244668</td>\n",
              "      <td>0.270833</td>\n",
              "      <td>0.257086</td>\n",
              "      <td>0.605173</td>\n",
              "    </tr>\n",
              "    <tr>\n",
              "      <th>5</th>\n",
              "      <td>Decision Tree CV</td>\n",
              "      <td>0.894250</td>\n",
              "      <td>0.604760</td>\n",
              "      <td>0.242680</td>\n",
              "      <td>0.270310</td>\n",
              "      <td>0.255710</td>\n",
              "      <td>0.605380</td>\n",
              "    </tr>\n",
              "    <tr>\n",
              "      <th>3</th>\n",
              "      <td>Gradient Boosting</td>\n",
              "      <td>0.936289</td>\n",
              "      <td>0.587905</td>\n",
              "      <td>0.581699</td>\n",
              "      <td>0.185417</td>\n",
              "      <td>0.281201</td>\n",
              "      <td>0.861268</td>\n",
              "    </tr>\n",
              "    <tr>\n",
              "      <th>7</th>\n",
              "      <td>Gradient Boosting CV</td>\n",
              "      <td>0.936300</td>\n",
              "      <td>0.581020</td>\n",
              "      <td>0.590400</td>\n",
              "      <td>0.170580</td>\n",
              "      <td>0.264610</td>\n",
              "      <td>0.860710</td>\n",
              "    </tr>\n",
              "    <tr>\n",
              "      <th>6</th>\n",
              "      <td>Random Forest CV</td>\n",
              "      <td>0.934800</td>\n",
              "      <td>0.578800</td>\n",
              "      <td>0.549610</td>\n",
              "      <td>0.167520</td>\n",
              "      <td>0.256610</td>\n",
              "      <td>0.833520</td>\n",
              "    </tr>\n",
              "    <tr>\n",
              "      <th>2</th>\n",
              "      <td>Random Forest</td>\n",
              "      <td>0.933676</td>\n",
              "      <td>0.575227</td>\n",
              "      <td>0.521348</td>\n",
              "      <td>0.161111</td>\n",
              "      <td>0.246154</td>\n",
              "      <td>0.838997</td>\n",
              "    </tr>\n",
              "    <tr>\n",
              "      <th>8</th>\n",
              "      <td>Logistic Regression OverSampled</td>\n",
              "      <td>0.839719</td>\n",
              "      <td>0.508002</td>\n",
              "      <td>0.825397</td>\n",
              "      <td>0.016688</td>\n",
              "      <td>0.032715</td>\n",
              "      <td>0.725548</td>\n",
              "    </tr>\n",
              "    <tr>\n",
              "      <th>4</th>\n",
              "      <td>Logistic Regression CV</td>\n",
              "      <td>0.933000</td>\n",
              "      <td>0.506560</td>\n",
              "      <td>0.559730</td>\n",
              "      <td>0.013890</td>\n",
              "      <td>0.027090</td>\n",
              "      <td>0.654840</td>\n",
              "    </tr>\n",
              "    <tr>\n",
              "      <th>0</th>\n",
              "      <td>Logistic Regression</td>\n",
              "      <td>0.932975</td>\n",
              "      <td>0.506544</td>\n",
              "      <td>0.555556</td>\n",
              "      <td>0.013889</td>\n",
              "      <td>0.027100</td>\n",
              "      <td>0.653751</td>\n",
              "    </tr>\n",
              "    <tr>\n",
              "      <th>24</th>\n",
              "      <td>Logistic Regression SMOTE CV</td>\n",
              "      <td>0.834840</td>\n",
              "      <td>0.506080</td>\n",
              "      <td>0.764070</td>\n",
              "      <td>0.012950</td>\n",
              "      <td>0.025460</td>\n",
              "      <td>0.673220</td>\n",
              "    </tr>\n",
              "    <tr>\n",
              "      <th>16</th>\n",
              "      <td>Logistic Regression SMOTE</td>\n",
              "      <td>0.838937</td>\n",
              "      <td>0.505595</td>\n",
              "      <td>0.770833</td>\n",
              "      <td>0.011874</td>\n",
              "      <td>0.023388</td>\n",
              "      <td>0.673413</td>\n",
              "    </tr>\n",
              "  </tbody>\n",
              "</table>\n",
              "</div>"
            ],
            "text/plain": [
              "                                     model  accuracy  ...  f1-score       AUC\n",
              "9                Decision Tree OverSampled  0.930467  ...  0.811795  0.927980\n",
              "10               Random Forest OverSampled  0.968778  ...  0.905565  0.979704\n",
              "22        Random Forest SMOTE-UnderSampled  0.846122  ...  0.829298  0.918828\n",
              "23    Gradient Boosting SMOTE-UnderSampled  0.840284  ...  0.816600  0.916291\n",
              "21        Decision Tree SMOTE-UnderSampled  0.783014  ...  0.763377  0.782825\n",
              "15          Gradient Boosting UnderSampled  0.776235  ...  0.738031  0.852343\n",
              "14              Random Forest UnderSampled  0.761574  ...  0.719346  0.837600\n",
              "17                     Decision Tree SMOTE  0.874016  ...  0.628668  0.786470\n",
              "13              Decision Tree UnderSampled  0.684799  ...  0.648300  0.681690\n",
              "25                  Decision Tree SMOTE CV  0.873150  ...  0.627700  0.780790\n",
              "18                     Random Forest SMOTE  0.914517  ...  0.698529  0.932023\n",
              "26                  Random Forest SMOTE CV  0.912970  ...  0.698500  0.930330\n",
              "19                 Gradient Boosting SMOTE  0.911702  ...  0.677824  0.918321\n",
              "27              Gradient Boosting SMOTE CV  0.910860  ...  0.678720  0.917290\n",
              "20  Logistic Regression SMOTE-UnderSampled  0.704754  ...  0.631634  0.776481\n",
              "12        Logistic Regression UnderSampled  0.709105  ...  0.613730  0.771375\n",
              "11           Gradient Boosting OverSampled  0.871983  ...  0.530402  0.866822\n",
              "1                            Decision Tree  0.894796  ...  0.257086  0.605173\n",
              "5                         Decision Tree CV  0.894250  ...  0.255710  0.605380\n",
              "3                        Gradient Boosting  0.936289  ...  0.281201  0.861268\n",
              "7                     Gradient Boosting CV  0.936300  ...  0.264610  0.860710\n",
              "6                         Random Forest CV  0.934800  ...  0.256610  0.833520\n",
              "2                            Random Forest  0.933676  ...  0.246154  0.838997\n",
              "8          Logistic Regression OverSampled  0.839719  ...  0.032715  0.725548\n",
              "4                   Logistic Regression CV  0.933000  ...  0.027090  0.654840\n",
              "0                      Logistic Regression  0.932975  ...  0.027100  0.653751\n",
              "24            Logistic Regression SMOTE CV  0.834840  ...  0.025460  0.673220\n",
              "16               Logistic Regression SMOTE  0.838937  ...  0.023388  0.673413\n",
              "\n",
              "[28 rows x 7 columns]"
            ]
          },
          "metadata": {
            "tags": []
          },
          "execution_count": 43
        }
      ]
    },
    {
      "cell_type": "markdown",
      "metadata": {
        "id": "9gLqSH4S8gue"
      },
      "source": [
        "# Ajuste de hiper-parâmetros"
      ]
    },
    {
      "cell_type": "code",
      "metadata": {
        "id": "mXnfONrb8jsq"
      },
      "source": [
        "from sklearn.model_selection import GridSearchCV"
      ],
      "execution_count": null,
      "outputs": []
    },
    {
      "cell_type": "code",
      "metadata": {
        "id": "OjFxWScDdabM"
      },
      "source": [
        "# Random Forest\n",
        "X_train, X_test, y_train, y_test = train_test_split(X_sm_us, y_sm_us, test_size=0.2, random_state=42)\n",
        "\n",
        "rf = RandomForestClassifier(random_state=42)\n",
        "rf.fit(X_train, y_train)\n",
        "y_pred = rf.predict(X_test)\n",
        "y_prob = rf.predict_proba(X_test)"
      ],
      "execution_count": null,
      "outputs": []
    },
    {
      "cell_type": "code",
      "metadata": {
        "id": "AZ-IasSOBurU"
      },
      "source": [
        "# Definindo a grade de parâmetros para teste\n",
        "\n",
        "lr_params = {\n",
        "    'solver': ['lbfgs', 'sag', 'saga']\n",
        "}\n",
        "\n",
        "dt_params = {\n",
        "    'max_depth': [1, 2, 3, 4, 5, 6, 7, 8, 9, 10]\n",
        "}\n",
        "\n",
        "rf_params = {\n",
        "    'n_estimators' : [150,200,250],\n",
        "    'max_features' : [3,4,5],\n",
        "    'max_depth'    : [16,20,24]\n",
        "}\n",
        "\n",
        "gb_params = {\n",
        "    'learning_rate' : [0.01, 0.05, 0.1],\n",
        "    'n_estimators'  : [100, 200, 300]\n",
        "}"
      ],
      "execution_count": null,
      "outputs": []
    },
    {
      "cell_type": "code",
      "metadata": {
        "id": "VLbWeO_pBzZb"
      },
      "source": [
        "# Resultado do tuning de parâmetros no GradientBoosting\n",
        "\n",
        "grid_search = GridSearchCV(rf, rf_params, scoring = 'recall')\n",
        "\n",
        "grid_search.fit(X_sm_us, y_sm_us)\n",
        "\n",
        "results = pd.DataFrame(grid_search.cv_results_)"
      ],
      "execution_count": null,
      "outputs": []
    },
    {
      "cell_type": "code",
      "metadata": {
        "colab": {
          "base_uri": "https://localhost:8080/",
          "height": 380
        },
        "id": "NDgtdM6rplbz",
        "outputId": "6e07633e-ed45-4052-b2da-3c229c726a98"
      },
      "source": [
        "# Mostrar as 5 melhores configuraçoes do modelo\n",
        "results.iloc[:,4:].sort_values('rank_test_score').head()"
      ],
      "execution_count": null,
      "outputs": [
        {
          "output_type": "execute_result",
          "data": {
            "text/html": [
              "<div>\n",
              "<style scoped>\n",
              "    .dataframe tbody tr th:only-of-type {\n",
              "        vertical-align: middle;\n",
              "    }\n",
              "\n",
              "    .dataframe tbody tr th {\n",
              "        vertical-align: top;\n",
              "    }\n",
              "\n",
              "    .dataframe thead th {\n",
              "        text-align: right;\n",
              "    }\n",
              "</style>\n",
              "<table border=\"1\" class=\"dataframe\">\n",
              "  <thead>\n",
              "    <tr style=\"text-align: right;\">\n",
              "      <th></th>\n",
              "      <th>param_max_depth</th>\n",
              "      <th>param_max_features</th>\n",
              "      <th>param_n_estimators</th>\n",
              "      <th>params</th>\n",
              "      <th>split0_test_score</th>\n",
              "      <th>split1_test_score</th>\n",
              "      <th>split2_test_score</th>\n",
              "      <th>split3_test_score</th>\n",
              "      <th>split4_test_score</th>\n",
              "      <th>mean_test_score</th>\n",
              "      <th>std_test_score</th>\n",
              "      <th>rank_test_score</th>\n",
              "    </tr>\n",
              "  </thead>\n",
              "  <tbody>\n",
              "    <tr>\n",
              "      <th>10</th>\n",
              "      <td>20</td>\n",
              "      <td>3</td>\n",
              "      <td>200</td>\n",
              "      <td>{'max_depth': 20, 'max_features': 3, 'n_estima...</td>\n",
              "      <td>0.641226</td>\n",
              "      <td>0.706287</td>\n",
              "      <td>0.893338</td>\n",
              "      <td>0.896185</td>\n",
              "      <td>0.895872</td>\n",
              "      <td>0.806582</td>\n",
              "      <td>0.110390</td>\n",
              "      <td>1</td>\n",
              "    </tr>\n",
              "    <tr>\n",
              "      <th>18</th>\n",
              "      <td>24</td>\n",
              "      <td>3</td>\n",
              "      <td>150</td>\n",
              "      <td>{'max_depth': 24, 'max_features': 3, 'n_estima...</td>\n",
              "      <td>0.633406</td>\n",
              "      <td>0.708164</td>\n",
              "      <td>0.897091</td>\n",
              "      <td>0.897436</td>\n",
              "      <td>0.896811</td>\n",
              "      <td>0.806582</td>\n",
              "      <td>0.113370</td>\n",
              "      <td>2</td>\n",
              "    </tr>\n",
              "    <tr>\n",
              "      <th>19</th>\n",
              "      <td>24</td>\n",
              "      <td>3</td>\n",
              "      <td>200</td>\n",
              "      <td>{'max_depth': 24, 'max_features': 3, 'n_estima...</td>\n",
              "      <td>0.636534</td>\n",
              "      <td>0.706913</td>\n",
              "      <td>0.898029</td>\n",
              "      <td>0.897123</td>\n",
              "      <td>0.893996</td>\n",
              "      <td>0.806519</td>\n",
              "      <td>0.112296</td>\n",
              "      <td>3</td>\n",
              "    </tr>\n",
              "    <tr>\n",
              "      <th>20</th>\n",
              "      <td>24</td>\n",
              "      <td>3</td>\n",
              "      <td>250</td>\n",
              "      <td>{'max_depth': 24, 'max_features': 3, 'n_estima...</td>\n",
              "      <td>0.633094</td>\n",
              "      <td>0.708789</td>\n",
              "      <td>0.898342</td>\n",
              "      <td>0.896185</td>\n",
              "      <td>0.893684</td>\n",
              "      <td>0.806019</td>\n",
              "      <td>0.112868</td>\n",
              "      <td>4</td>\n",
              "    </tr>\n",
              "    <tr>\n",
              "      <th>11</th>\n",
              "      <td>20</td>\n",
              "      <td>3</td>\n",
              "      <td>250</td>\n",
              "      <td>{'max_depth': 20, 'max_features': 3, 'n_estima...</td>\n",
              "      <td>0.636221</td>\n",
              "      <td>0.703785</td>\n",
              "      <td>0.893963</td>\n",
              "      <td>0.898687</td>\n",
              "      <td>0.896811</td>\n",
              "      <td>0.805893</td>\n",
              "      <td>0.113002</td>\n",
              "      <td>5</td>\n",
              "    </tr>\n",
              "  </tbody>\n",
              "</table>\n",
              "</div>"
            ],
            "text/plain": [
              "   param_max_depth param_max_features  ... std_test_score rank_test_score\n",
              "10              20                  3  ...       0.110390               1\n",
              "18              24                  3  ...       0.113370               2\n",
              "19              24                  3  ...       0.112296               3\n",
              "20              24                  3  ...       0.112868               4\n",
              "11              20                  3  ...       0.113002               5\n",
              "\n",
              "[5 rows x 12 columns]"
            ]
          },
          "metadata": {
            "tags": []
          },
          "execution_count": 48
        }
      ]
    },
    {
      "cell_type": "markdown",
      "metadata": {
        "id": "6hfKyQXX4rXf"
      },
      "source": [
        "# Escolhendo o melhor modelo"
      ]
    },
    {
      "cell_type": "code",
      "metadata": {
        "colab": {
          "base_uri": "https://localhost:8080/"
        },
        "id": "5hvYOzv2wv0I",
        "outputId": "aad48448-b3db-4262-b12b-0a2e03540663"
      },
      "source": [
        "# Mostrar o melhor de todos\n",
        "grid_search.best_estimator_"
      ],
      "execution_count": null,
      "outputs": [
        {
          "output_type": "execute_result",
          "data": {
            "text/plain": [
              "RandomForestClassifier(max_depth=20, max_features=3, n_estimators=200,\n",
              "                       random_state=42)"
            ]
          },
          "metadata": {
            "tags": []
          },
          "execution_count": 49
        }
      ]
    },
    {
      "cell_type": "code",
      "metadata": {
        "id": "Rnov8asBu1CQ"
      },
      "source": [
        "# Pegando as métricas do modelo já tunado\n",
        "rf = grid_search.best_estimator_\n",
        "\n",
        "rf.fit(X_train, y_train)\n",
        "\n",
        "y_pred = rf.predict(X_test)\n",
        "y_prob = rf.predict_proba(X_test)\n",
        "\n",
        "save_metrics(y_test, y_pred, y_prob, 'Random Forest OverUnderSampled Tuned')"
      ],
      "execution_count": null,
      "outputs": []
    },
    {
      "cell_type": "code",
      "metadata": {
        "id": "ZrsOH_3Vhd7f"
      },
      "source": [
        "# Feature Importance do melhor modelo\n",
        "pd.DataFrame({\n",
        "    'dt' : dt.feature_importances_,\n",
        "    'rf' : rf.feature_importances_,\n",
        "    'gb' : gb.feature_importances_}\n",
        ")"
      ],
      "execution_count": null,
      "outputs": []
    },
    {
      "cell_type": "code",
      "metadata": {
        "id": "yt7VjaLbjXPl",
        "colab": {
          "base_uri": "https://localhost:8080/",
          "height": 300
        },
        "outputId": "b276ddd1-6a66-4c8b-a9f5-885a0526f9b6"
      },
      "source": [
        "# Feature Importance do melhor modelo\n",
        "pd.DataFrame({\n",
        "    'features' : X_train.columns,\n",
        "    'ft_importance' : rf.feature_importances_}\n",
        ")"
      ],
      "execution_count": null,
      "outputs": [
        {
          "output_type": "execute_result",
          "data": {
            "text/html": [
              "<div>\n",
              "<style scoped>\n",
              "    .dataframe tbody tr th:only-of-type {\n",
              "        vertical-align: middle;\n",
              "    }\n",
              "\n",
              "    .dataframe tbody tr th {\n",
              "        vertical-align: top;\n",
              "    }\n",
              "\n",
              "    .dataframe thead th {\n",
              "        text-align: right;\n",
              "    }\n",
              "</style>\n",
              "<table border=\"1\" class=\"dataframe\">\n",
              "  <thead>\n",
              "    <tr style=\"text-align: right;\">\n",
              "      <th></th>\n",
              "      <th>features</th>\n",
              "      <th>ft_importance</th>\n",
              "    </tr>\n",
              "  </thead>\n",
              "  <tbody>\n",
              "    <tr>\n",
              "      <th>0</th>\n",
              "      <td>util_linhas_inseguras</td>\n",
              "      <td>0.255650</td>\n",
              "    </tr>\n",
              "    <tr>\n",
              "      <th>1</th>\n",
              "      <td>idade</td>\n",
              "      <td>0.098066</td>\n",
              "    </tr>\n",
              "    <tr>\n",
              "      <th>2</th>\n",
              "      <td>razao_debito</td>\n",
              "      <td>0.114635</td>\n",
              "    </tr>\n",
              "    <tr>\n",
              "      <th>3</th>\n",
              "      <td>salario_mensal</td>\n",
              "      <td>0.109654</td>\n",
              "    </tr>\n",
              "    <tr>\n",
              "      <th>4</th>\n",
              "      <td>numero_linhas_crdto_aberto</td>\n",
              "      <td>0.065842</td>\n",
              "    </tr>\n",
              "    <tr>\n",
              "      <th>5</th>\n",
              "      <td>numero_emprestimos_imobiliarios</td>\n",
              "      <td>0.030893</td>\n",
              "    </tr>\n",
              "    <tr>\n",
              "      <th>6</th>\n",
              "      <td>numero_de_dependentes</td>\n",
              "      <td>0.121693</td>\n",
              "    </tr>\n",
              "    <tr>\n",
              "      <th>7</th>\n",
              "      <td>num_atrasos_pagamento</td>\n",
              "      <td>0.203567</td>\n",
              "    </tr>\n",
              "  </tbody>\n",
              "</table>\n",
              "</div>"
            ],
            "text/plain": [
              "                          features  ft_importance\n",
              "0            util_linhas_inseguras       0.255650\n",
              "1                            idade       0.098066\n",
              "2                     razao_debito       0.114635\n",
              "3                   salario_mensal       0.109654\n",
              "4       numero_linhas_crdto_aberto       0.065842\n",
              "5  numero_emprestimos_imobiliarios       0.030893\n",
              "6            numero_de_dependentes       0.121693\n",
              "7            num_atrasos_pagamento       0.203567"
            ]
          },
          "metadata": {
            "tags": []
          },
          "execution_count": 51
        }
      ]
    },
    {
      "cell_type": "code",
      "metadata": {
        "id": "S8T0Tb6Txt1S"
      },
      "source": [
        "# Salvando os resultados\n",
        "\n",
        "pd.DataFrame(metrics).to_excel('/content/drive/MyDrive/datasets/credito/tb-compare-models.xlsx', sheet_name = 'compare_model')\n",
        "\n",
        "results.to_excel('/content/drive/MyDrive/datasets/credito/tb-rf-hypertuning.xlsx', sheet_name = 'tuning-metrics')"
      ],
      "execution_count": null,
      "outputs": []
    },
    {
      "cell_type": "markdown",
      "metadata": {
        "id": "c-fSpYNIYUZu"
      },
      "source": [
        "# Testando o modelo na base de teste !"
      ]
    },
    {
      "cell_type": "code",
      "metadata": {
        "colab": {
          "base_uri": "https://localhost:8080/",
          "height": 226
        },
        "id": "NSvmEktGYXuU",
        "outputId": "521b2d4f-296b-4b70-9550-382fe446b37e"
      },
      "source": [
        "df_teste = pd.read_csv('/content/drive/MyDrive/datasets/credito/teste.csv', sep=',')\n",
        "df_teste.head()"
      ],
      "execution_count": null,
      "outputs": [
        {
          "output_type": "execute_result",
          "data": {
            "text/html": [
              "<div>\n",
              "<style scoped>\n",
              "    .dataframe tbody tr th:only-of-type {\n",
              "        vertical-align: middle;\n",
              "    }\n",
              "\n",
              "    .dataframe tbody tr th {\n",
              "        vertical-align: top;\n",
              "    }\n",
              "\n",
              "    .dataframe thead th {\n",
              "        text-align: right;\n",
              "    }\n",
              "</style>\n",
              "<table border=\"1\" class=\"dataframe\">\n",
              "  <thead>\n",
              "    <tr style=\"text-align: right;\">\n",
              "      <th></th>\n",
              "      <th>util_linhas_inseguras</th>\n",
              "      <th>idade</th>\n",
              "      <th>vezes_passou_de_30_59_dias</th>\n",
              "      <th>razao_debito</th>\n",
              "      <th>salario_mensal</th>\n",
              "      <th>numero_linhas_crdto_aberto</th>\n",
              "      <th>numero_vezes_passou_90_dias</th>\n",
              "      <th>numero_emprestimos_imobiliarios</th>\n",
              "      <th>numero_de_vezes_que_passou_60_89_dias</th>\n",
              "      <th>numero_de_dependentes</th>\n",
              "    </tr>\n",
              "  </thead>\n",
              "  <tbody>\n",
              "    <tr>\n",
              "      <th>0</th>\n",
              "      <td>0.025849</td>\n",
              "      <td>62</td>\n",
              "      <td>0</td>\n",
              "      <td>0.081775</td>\n",
              "      <td>8180.0</td>\n",
              "      <td>3</td>\n",
              "      <td>0</td>\n",
              "      <td>2</td>\n",
              "      <td>0</td>\n",
              "      <td>0.0</td>\n",
              "    </tr>\n",
              "    <tr>\n",
              "      <th>1</th>\n",
              "      <td>0.667083</td>\n",
              "      <td>55</td>\n",
              "      <td>0</td>\n",
              "      <td>0.153112</td>\n",
              "      <td>2200.0</td>\n",
              "      <td>3</td>\n",
              "      <td>0</td>\n",
              "      <td>0</td>\n",
              "      <td>0</td>\n",
              "      <td>0.0</td>\n",
              "    </tr>\n",
              "    <tr>\n",
              "      <th>2</th>\n",
              "      <td>0.007093</td>\n",
              "      <td>44</td>\n",
              "      <td>0</td>\n",
              "      <td>0.148800</td>\n",
              "      <td>7499.0</td>\n",
              "      <td>20</td>\n",
              "      <td>0</td>\n",
              "      <td>1</td>\n",
              "      <td>0</td>\n",
              "      <td>0.0</td>\n",
              "    </tr>\n",
              "    <tr>\n",
              "      <th>3</th>\n",
              "      <td>0.091213</td>\n",
              "      <td>54</td>\n",
              "      <td>0</td>\n",
              "      <td>0.351635</td>\n",
              "      <td>5900.0</td>\n",
              "      <td>15</td>\n",
              "      <td>0</td>\n",
              "      <td>1</td>\n",
              "      <td>1</td>\n",
              "      <td>0.0</td>\n",
              "    </tr>\n",
              "    <tr>\n",
              "      <th>4</th>\n",
              "      <td>0.112680</td>\n",
              "      <td>54</td>\n",
              "      <td>0</td>\n",
              "      <td>0.065959</td>\n",
              "      <td>2167.0</td>\n",
              "      <td>3</td>\n",
              "      <td>0</td>\n",
              "      <td>0</td>\n",
              "      <td>0</td>\n",
              "      <td>0.0</td>\n",
              "    </tr>\n",
              "  </tbody>\n",
              "</table>\n",
              "</div>"
            ],
            "text/plain": [
              "   util_linhas_inseguras  ...  numero_de_dependentes\n",
              "0               0.025849  ...                    0.0\n",
              "1               0.667083  ...                    0.0\n",
              "2               0.007093  ...                    0.0\n",
              "3               0.091213  ...                    0.0\n",
              "4               0.112680  ...                    0.0\n",
              "\n",
              "[5 rows x 10 columns]"
            ]
          },
          "metadata": {
            "tags": []
          },
          "execution_count": 53
        }
      ]
    },
    {
      "cell_type": "code",
      "metadata": {
        "id": "mau3oX9nbPj1"
      },
      "source": [
        "# Tratando a base de teste\n",
        "df_teste.salario_mensal.fillna(df_teste['idade'].map(dict_idade_renda), inplace=True)\n",
        "\n",
        "df_teste.dropna(axis=0, subset=['salario_mensal','numero_de_dependentes'], inplace=True)\n",
        "\n",
        "df_teste['num_atrasos_pagamento'] = df_teste[['vezes_passou_de_30_59_dias','numero_de_vezes_que_passou_60_89_dias','numero_vezes_passou_90_dias']].sum(axis = 1)\n",
        "\n",
        "df_teste.drop(['vezes_passou_de_30_59_dias',\n",
        "               'numero_de_vezes_que_passou_60_89_dias',\n",
        "               'numero_vezes_passou_90_dias'],\n",
        "              axis = 1,\n",
        "              inplace = True)"
      ],
      "execution_count": null,
      "outputs": []
    },
    {
      "cell_type": "code",
      "metadata": {
        "colab": {
          "base_uri": "https://localhost:8080/",
          "height": 206
        },
        "id": "nzyWA-Nbbhxb",
        "outputId": "cc773e26-1cc8-478e-e6af-75be23cfb8a0"
      },
      "source": [
        "# Rodar o melhor no mdelo na base teste\n",
        "X = df_teste.filter(features)\n",
        "\n",
        "df_teste['prob_inadimplente'] = rf.predict_proba(X)[:,1]\n",
        "\n",
        "df_teste.head()"
      ],
      "execution_count": null,
      "outputs": [
        {
          "output_type": "execute_result",
          "data": {
            "text/html": [
              "<div>\n",
              "<style scoped>\n",
              "    .dataframe tbody tr th:only-of-type {\n",
              "        vertical-align: middle;\n",
              "    }\n",
              "\n",
              "    .dataframe tbody tr th {\n",
              "        vertical-align: top;\n",
              "    }\n",
              "\n",
              "    .dataframe thead th {\n",
              "        text-align: right;\n",
              "    }\n",
              "</style>\n",
              "<table border=\"1\" class=\"dataframe\">\n",
              "  <thead>\n",
              "    <tr style=\"text-align: right;\">\n",
              "      <th></th>\n",
              "      <th>util_linhas_inseguras</th>\n",
              "      <th>idade</th>\n",
              "      <th>razao_debito</th>\n",
              "      <th>salario_mensal</th>\n",
              "      <th>numero_linhas_crdto_aberto</th>\n",
              "      <th>numero_emprestimos_imobiliarios</th>\n",
              "      <th>numero_de_dependentes</th>\n",
              "      <th>num_atrasos_pagamento</th>\n",
              "      <th>prob_inadimplente</th>\n",
              "    </tr>\n",
              "  </thead>\n",
              "  <tbody>\n",
              "    <tr>\n",
              "      <th>0</th>\n",
              "      <td>0.025849</td>\n",
              "      <td>62</td>\n",
              "      <td>0.081775</td>\n",
              "      <td>8180.0</td>\n",
              "      <td>3</td>\n",
              "      <td>2</td>\n",
              "      <td>0.0</td>\n",
              "      <td>0</td>\n",
              "      <td>0.013649</td>\n",
              "    </tr>\n",
              "    <tr>\n",
              "      <th>1</th>\n",
              "      <td>0.667083</td>\n",
              "      <td>55</td>\n",
              "      <td>0.153112</td>\n",
              "      <td>2200.0</td>\n",
              "      <td>3</td>\n",
              "      <td>0</td>\n",
              "      <td>0.0</td>\n",
              "      <td>0</td>\n",
              "      <td>0.186644</td>\n",
              "    </tr>\n",
              "    <tr>\n",
              "      <th>2</th>\n",
              "      <td>0.007093</td>\n",
              "      <td>44</td>\n",
              "      <td>0.148800</td>\n",
              "      <td>7499.0</td>\n",
              "      <td>20</td>\n",
              "      <td>1</td>\n",
              "      <td>0.0</td>\n",
              "      <td>0</td>\n",
              "      <td>0.035957</td>\n",
              "    </tr>\n",
              "    <tr>\n",
              "      <th>3</th>\n",
              "      <td>0.091213</td>\n",
              "      <td>54</td>\n",
              "      <td>0.351635</td>\n",
              "      <td>5900.0</td>\n",
              "      <td>15</td>\n",
              "      <td>1</td>\n",
              "      <td>0.0</td>\n",
              "      <td>1</td>\n",
              "      <td>0.265404</td>\n",
              "    </tr>\n",
              "    <tr>\n",
              "      <th>4</th>\n",
              "      <td>0.112680</td>\n",
              "      <td>54</td>\n",
              "      <td>0.065959</td>\n",
              "      <td>2167.0</td>\n",
              "      <td>3</td>\n",
              "      <td>0</td>\n",
              "      <td>0.0</td>\n",
              "      <td>0</td>\n",
              "      <td>0.221784</td>\n",
              "    </tr>\n",
              "  </tbody>\n",
              "</table>\n",
              "</div>"
            ],
            "text/plain": [
              "   util_linhas_inseguras  idade  ...  num_atrasos_pagamento  prob_inadimplente\n",
              "0               0.025849     62  ...                      0           0.013649\n",
              "1               0.667083     55  ...                      0           0.186644\n",
              "2               0.007093     44  ...                      0           0.035957\n",
              "3               0.091213     54  ...                      1           0.265404\n",
              "4               0.112680     54  ...                      0           0.221784\n",
              "\n",
              "[5 rows x 9 columns]"
            ]
          },
          "metadata": {
            "tags": []
          },
          "execution_count": 55
        }
      ]
    },
    {
      "cell_type": "code",
      "metadata": {
        "id": "Lwx6NMrLdB6t"
      },
      "source": [
        "# Exportar resultado com probabilidades de inadimplência, calculadas por cliente\n",
        "df_teste.to_excel('/content/drive/MyDrive/datasets/credito/tb-predictions.xlsx', sheet_name = 'predictions')"
      ],
      "execution_count": null,
      "outputs": []
    }
  ]
}